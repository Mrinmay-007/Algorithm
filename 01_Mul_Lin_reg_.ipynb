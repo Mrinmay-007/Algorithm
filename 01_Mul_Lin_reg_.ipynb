{
 "cells": [
  {
   "cell_type": "code",
   "execution_count": 47,
   "metadata": {},
   "outputs": [],
   "source": [
    "from sklearn.datasets import make_regression\n",
    "import pandas as pd\n",
    "import numpy as np\n",
    "\n",
    "import plotly.express as px\n",
    "import plotly.graph_objects as go\n",
    "\n",
    "from sklearn.metrics import mean_absolute_error,mean_squared_error,r2_score"
   ]
  },
  {
   "cell_type": "code",
   "execution_count": 48,
   "metadata": {},
   "outputs": [],
   "source": [
    "X,y = make_regression(n_samples=100, n_features=2, n_informative=2, n_targets=1, noise=50)"
   ]
  },
  {
   "cell_type": "code",
   "execution_count": 49,
   "metadata": {},
   "outputs": [],
   "source": [
    "df = pd.DataFrame({'feature1':X[:,0],'feature2':X[:,1],'target':y})\n"
   ]
  },
  {
   "cell_type": "code",
   "execution_count": 50,
   "metadata": {},
   "outputs": [
    {
     "data": {
      "text/plain": [
       "(100, 3)"
      ]
     },
     "execution_count": 50,
     "metadata": {},
     "output_type": "execute_result"
    }
   ],
   "source": [
    "\n",
    "df.shape"
   ]
  },
  {
   "cell_type": "code",
   "execution_count": 51,
   "metadata": {},
   "outputs": [
    {
     "data": {
      "text/html": [
       "<div>\n",
       "<style scoped>\n",
       "    .dataframe tbody tr th:only-of-type {\n",
       "        vertical-align: middle;\n",
       "    }\n",
       "\n",
       "    .dataframe tbody tr th {\n",
       "        vertical-align: top;\n",
       "    }\n",
       "\n",
       "    .dataframe thead th {\n",
       "        text-align: right;\n",
       "    }\n",
       "</style>\n",
       "<table border=\"1\" class=\"dataframe\">\n",
       "  <thead>\n",
       "    <tr style=\"text-align: right;\">\n",
       "      <th></th>\n",
       "      <th>feature1</th>\n",
       "      <th>feature2</th>\n",
       "      <th>target</th>\n",
       "    </tr>\n",
       "  </thead>\n",
       "  <tbody>\n",
       "    <tr>\n",
       "      <th>0</th>\n",
       "      <td>-0.359716</td>\n",
       "      <td>0.543359</td>\n",
       "      <td>-6.964515</td>\n",
       "    </tr>\n",
       "    <tr>\n",
       "      <th>1</th>\n",
       "      <td>1.673838</td>\n",
       "      <td>0.320939</td>\n",
       "      <td>61.956448</td>\n",
       "    </tr>\n",
       "    <tr>\n",
       "      <th>2</th>\n",
       "      <td>0.163191</td>\n",
       "      <td>-0.320800</td>\n",
       "      <td>31.857419</td>\n",
       "    </tr>\n",
       "    <tr>\n",
       "      <th>3</th>\n",
       "      <td>-0.743876</td>\n",
       "      <td>0.466503</td>\n",
       "      <td>-33.498611</td>\n",
       "    </tr>\n",
       "    <tr>\n",
       "      <th>4</th>\n",
       "      <td>-0.268195</td>\n",
       "      <td>0.182973</td>\n",
       "      <td>17.625188</td>\n",
       "    </tr>\n",
       "  </tbody>\n",
       "</table>\n",
       "</div>"
      ],
      "text/plain": [
       "   feature1  feature2     target\n",
       "0 -0.359716  0.543359  -6.964515\n",
       "1  1.673838  0.320939  61.956448\n",
       "2  0.163191 -0.320800  31.857419\n",
       "3 -0.743876  0.466503 -33.498611\n",
       "4 -0.268195  0.182973  17.625188"
      ]
     },
     "execution_count": 51,
     "metadata": {},
     "output_type": "execute_result"
    }
   ],
   "source": [
    "df.head()\n"
   ]
  },
  {
   "cell_type": "code",
   "execution_count": 52,
   "metadata": {},
   "outputs": [
    {
     "data": {
      "application/vnd.plotly.v1+json": {
       "config": {
        "plotlyServerURL": "https://plot.ly"
       },
       "data": [
        {
         "hovertemplate": "feature1=%{x}<br>feature2=%{y}<br>target=%{z}<extra></extra>",
         "legendgroup": "",
         "marker": {
          "color": "#636efa",
          "symbol": "circle"
         },
         "mode": "markers",
         "name": "",
         "scene": "scene",
         "showlegend": false,
         "type": "scatter3d",
         "x": [
          -0.35971560800640034,
          1.6738375482953314,
          0.1631910347100687,
          -0.7438755457838349,
          -0.2681951135022425,
          0.7648734683130957,
          -0.3153504244781113,
          0.1517863675870243,
          -1.1416560561012523,
          0.2556146003166756,
          -0.8954673037063658,
          -0.050779587936139,
          0.8394646710130104,
          1.0750101654078141,
          -1.102602916333306,
          1.2897513964964975,
          -1.0106755698670358,
          1.4080406250626125,
          1.6168350849018982,
          0.5905313110261085,
          -0.4456268913906718,
          -0.6919151046916786,
          -0.3389291623457696,
          -1.359556792641984,
          -0.6841726805718755,
          -0.5481273808847085,
          0.4037611162988252,
          -1.7946763580428193,
          -0.18994450002591998,
          -0.9052846676105525,
          0.03398104568462685,
          0.34180552627892,
          -1.1216081357087828,
          -0.4010441748776265,
          0.3422510122964555,
          -0.4945608304655833,
          -0.2907537699531758,
          -0.043352361612985606,
          -0.7887024697128918,
          -0.04522026074554106,
          -0.2075813076626353,
          0.343925858973628,
          0.5123888959629197,
          1.3893927743313292,
          1.3316258578015818,
          0.30162608808461816,
          -0.03174807290727632,
          0.22127611800468683,
          -0.4653420548228861,
          0.3886418862291459,
          0.16728401337471743,
          -1.0810305267905882,
          1.1279361325608626,
          -1.73386730950933,
          0.5569102690845177,
          -0.11570446252563307,
          0.49658911035055747,
          1.6773919149479741,
          0.4531493594191345,
          0.15868100002377586,
          -0.2659074938891984,
          -0.5313872597888134,
          2.219597359457117,
          2.163455057987777,
          -1.0916485246512115,
          1.2462254551425553,
          1.804811291549875,
          1.1700676715400828,
          -0.7123959414159656,
          0.40277686043650424,
          0.775120858598635,
          -0.4619271615062973,
          0.307815788467547,
          -1.5982923823352457,
          0.5293675651707338,
          -0.06893197621940181,
          -0.3765897635673763,
          0.2835282744779696,
          0.7844832347777676,
          -0.9050042744735335,
          -0.1067705797502196,
          0.5487799352160826,
          0.9330984485417293,
          -0.8472115367743555,
          -1.4487707522238538,
          0.01970640371167201,
          -1.3547115733488644,
          0.0390135905059914,
          0.015028972179936657,
          1.0147568720578926,
          -1.1516831082759305,
          0.43234122413047466,
          0.3083118856564054,
          -0.30119418242321117,
          -1.142492825641922,
          -0.5196055920432247,
          -0.5258097058326255,
          -0.22685022989900513,
          1.7420180629232678,
          0.3885979581026793
         ],
         "y": [
          0.543358779168159,
          0.3209387070080894,
          -0.3208002590491155,
          0.4665029115639458,
          0.18297329373537496,
          -1.815979023251981,
          -0.762689563791031,
          0.18390660216263935,
          0.5690914552524561,
          0.859239788135141,
          1.8746773524877622,
          -1.1143160990949954,
          0.026733263792614675,
          -0.18328008640112153,
          -0.15051950327606,
          -0.7866735705113425,
          0.500338583323355,
          1.353566226471812,
          2.749411402160867,
          0.40730779304379744,
          1.6757854066365399,
          0.2846453270319647,
          0.7863361682314737,
          -1.0224692016710348,
          -1.760160035549698,
          -1.5268461597566052,
          -0.13225418757055363,
          -0.1870444895331159,
          0.0888953758725569,
          0.103218691979514,
          -2.0723573421018235,
          -0.5334806959496111,
          -1.6550746572008221,
          -0.4209462456559155,
          0.0776647147834733,
          -0.01791391739601709,
          -0.4951600360827165,
          -0.5709187180965414,
          0.6566448533860109,
          0.4792370684180419,
          -1.3884274613791745,
          1.373531747456315,
          -0.6019403334852645,
          -0.9221896000764392,
          1.315179617358025,
          1.1048136328096891,
          1.9870667460704954,
          -0.41781386256563613,
          -0.49880536671099374,
          -2.6396886301039535,
          0.6578785451003043,
          0.9634675121306757,
          1.2314593676388519,
          0.012864431789603583,
          -0.9636313616632174,
          -0.967714134824846,
          1.2307965637027336,
          -2.1305834427310324,
          -0.9868092878467369,
          0.589115206633202,
          -0.699685868965903,
          -1.1636353427988526,
          0.09049060773603694,
          0.016397708992529465,
          0.7780669803274822,
          -0.9532101900469334,
          1.8389889912189668,
          -1.3199118854348637,
          1.118204613957065,
          0.01714298488090866,
          1.4129789741398877,
          -2.7466106380165316,
          1.9675093447292553,
          0.32823942240478643,
          0.8444747992028465,
          0.6841170732556624,
          0.8078058495903702,
          -0.3805783491452187,
          0.6321754431998745,
          1.4806710505000786,
          -1.499974658225802,
          -1.4036492147038044,
          -0.19006409501279192,
          -1.684750862137088,
          -0.22394294442727328,
          -0.2985697575335854,
          -0.19216052836034894,
          -1.5725725843137013,
          1.1215873918410209,
          -0.24702400234870348,
          -1.5699195868287854,
          -0.7011639583778522,
          0.015181491663183156,
          1.0188660921646568,
          -1.4407743804456954,
          -0.14363157566047927,
          3.1168106144375436,
          -0.23120146887089219,
          0.7690290399711114,
          0.5360606026946003
         ],
         "z": [
          -6.964514607720993,
          61.95644832095256,
          31.857418676975872,
          -33.498611046498354,
          17.625188120557603,
          -115.2309572384092,
          -185.66980284983558,
          -39.71147025484879,
          52.564641808146064,
          32.69758556266203,
          105.61724295082671,
          -28.077565911207742,
          -93.26345268844489,
          71.14881259746222,
          26.57502195851952,
          -69.53674812686401,
          40.01917138877787,
          100.58103658177899,
          137.77666134484957,
          78.23033508987439,
          58.86192872671684,
          -34.301925355936675,
          -36.44542445087611,
          -147.23497825850387,
          -117.03744297550742,
          -102.88949144423005,
          130.5705373415142,
          -118.86050194569707,
          56.037164422844214,
          -7.601887951575413,
          3.47484414661848,
          60.660845809158985,
          -76.86030982536188,
          11.140741514857304,
          -17.66710954360964,
          27.55936556904143,
          39.59980196718583,
          -32.6404024160393,
          128.9851202679649,
          44.1155777175272,
          -126.87419499914407,
          181.4649852878871,
          0.9856912615361324,
          -57.67665977547195,
          125.1686640378707,
          75.58043793634178,
          104.75231378671708,
          10.378789298963582,
          21.73520584422979,
          -143.02213864316903,
          77.00142086786389,
          -38.11629281718212,
          130.81245132149982,
          -12.048155575990194,
          -68.01599681205938,
          -69.63534265044379,
          14.30942613634302,
          -133.61672185225615,
          -28.938998749495845,
          142.74101990626238,
          -45.77323518781635,
          -119.82843145548503,
          92.49029476425018,
          33.079102310682714,
          90.10833890059595,
          -13.67792266612323,
          116.04188601456215,
          -94.67344618707361,
          59.58480730357344,
          -79.41465801433624,
          63.980451292463414,
          -124.18940626842752,
          106.80137213591145,
          46.97910572780036,
          7.802941389017775,
          64.23260242736829,
          22.960284340279856,
          -128.39242730396407,
          72.85950294910313,
          35.1896406226748,
          4.99607184136805,
          -146.57898844955318,
          30.754264347804778,
          -47.07310529511539,
          -33.6536796051474,
          -20.5188044050217,
          99.41142711799888,
          -33.61046867511162,
          55.19445861580609,
          68.29632175440102,
          -129.0537961966634,
          -14.57335982711394,
          -3.184908067154364,
          -1.2097498148885322,
          -84.3489406581379,
          -64.86718568735698,
          191.30839871633844,
          -26.97103299461674,
          76.05062414753489,
          54.401523530916435
         ]
        }
       ],
       "layout": {
        "legend": {
         "tracegroupgap": 0
        },
        "margin": {
         "t": 60
        },
        "scene": {
         "domain": {
          "x": [
           0,
           1
          ],
          "y": [
           0,
           1
          ]
         },
         "xaxis": {
          "title": {
           "text": "feature1"
          }
         },
         "yaxis": {
          "title": {
           "text": "feature2"
          }
         },
         "zaxis": {
          "title": {
           "text": "target"
          }
         }
        },
        "template": {
         "data": {
          "bar": [
           {
            "error_x": {
             "color": "#2a3f5f"
            },
            "error_y": {
             "color": "#2a3f5f"
            },
            "marker": {
             "line": {
              "color": "#E5ECF6",
              "width": 0.5
             },
             "pattern": {
              "fillmode": "overlay",
              "size": 10,
              "solidity": 0.2
             }
            },
            "type": "bar"
           }
          ],
          "barpolar": [
           {
            "marker": {
             "line": {
              "color": "#E5ECF6",
              "width": 0.5
             },
             "pattern": {
              "fillmode": "overlay",
              "size": 10,
              "solidity": 0.2
             }
            },
            "type": "barpolar"
           }
          ],
          "carpet": [
           {
            "aaxis": {
             "endlinecolor": "#2a3f5f",
             "gridcolor": "white",
             "linecolor": "white",
             "minorgridcolor": "white",
             "startlinecolor": "#2a3f5f"
            },
            "baxis": {
             "endlinecolor": "#2a3f5f",
             "gridcolor": "white",
             "linecolor": "white",
             "minorgridcolor": "white",
             "startlinecolor": "#2a3f5f"
            },
            "type": "carpet"
           }
          ],
          "choropleth": [
           {
            "colorbar": {
             "outlinewidth": 0,
             "ticks": ""
            },
            "type": "choropleth"
           }
          ],
          "contour": [
           {
            "colorbar": {
             "outlinewidth": 0,
             "ticks": ""
            },
            "colorscale": [
             [
              0,
              "#0d0887"
             ],
             [
              0.1111111111111111,
              "#46039f"
             ],
             [
              0.2222222222222222,
              "#7201a8"
             ],
             [
              0.3333333333333333,
              "#9c179e"
             ],
             [
              0.4444444444444444,
              "#bd3786"
             ],
             [
              0.5555555555555556,
              "#d8576b"
             ],
             [
              0.6666666666666666,
              "#ed7953"
             ],
             [
              0.7777777777777778,
              "#fb9f3a"
             ],
             [
              0.8888888888888888,
              "#fdca26"
             ],
             [
              1,
              "#f0f921"
             ]
            ],
            "type": "contour"
           }
          ],
          "contourcarpet": [
           {
            "colorbar": {
             "outlinewidth": 0,
             "ticks": ""
            },
            "type": "contourcarpet"
           }
          ],
          "heatmap": [
           {
            "colorbar": {
             "outlinewidth": 0,
             "ticks": ""
            },
            "colorscale": [
             [
              0,
              "#0d0887"
             ],
             [
              0.1111111111111111,
              "#46039f"
             ],
             [
              0.2222222222222222,
              "#7201a8"
             ],
             [
              0.3333333333333333,
              "#9c179e"
             ],
             [
              0.4444444444444444,
              "#bd3786"
             ],
             [
              0.5555555555555556,
              "#d8576b"
             ],
             [
              0.6666666666666666,
              "#ed7953"
             ],
             [
              0.7777777777777778,
              "#fb9f3a"
             ],
             [
              0.8888888888888888,
              "#fdca26"
             ],
             [
              1,
              "#f0f921"
             ]
            ],
            "type": "heatmap"
           }
          ],
          "heatmapgl": [
           {
            "colorbar": {
             "outlinewidth": 0,
             "ticks": ""
            },
            "colorscale": [
             [
              0,
              "#0d0887"
             ],
             [
              0.1111111111111111,
              "#46039f"
             ],
             [
              0.2222222222222222,
              "#7201a8"
             ],
             [
              0.3333333333333333,
              "#9c179e"
             ],
             [
              0.4444444444444444,
              "#bd3786"
             ],
             [
              0.5555555555555556,
              "#d8576b"
             ],
             [
              0.6666666666666666,
              "#ed7953"
             ],
             [
              0.7777777777777778,
              "#fb9f3a"
             ],
             [
              0.8888888888888888,
              "#fdca26"
             ],
             [
              1,
              "#f0f921"
             ]
            ],
            "type": "heatmapgl"
           }
          ],
          "histogram": [
           {
            "marker": {
             "pattern": {
              "fillmode": "overlay",
              "size": 10,
              "solidity": 0.2
             }
            },
            "type": "histogram"
           }
          ],
          "histogram2d": [
           {
            "colorbar": {
             "outlinewidth": 0,
             "ticks": ""
            },
            "colorscale": [
             [
              0,
              "#0d0887"
             ],
             [
              0.1111111111111111,
              "#46039f"
             ],
             [
              0.2222222222222222,
              "#7201a8"
             ],
             [
              0.3333333333333333,
              "#9c179e"
             ],
             [
              0.4444444444444444,
              "#bd3786"
             ],
             [
              0.5555555555555556,
              "#d8576b"
             ],
             [
              0.6666666666666666,
              "#ed7953"
             ],
             [
              0.7777777777777778,
              "#fb9f3a"
             ],
             [
              0.8888888888888888,
              "#fdca26"
             ],
             [
              1,
              "#f0f921"
             ]
            ],
            "type": "histogram2d"
           }
          ],
          "histogram2dcontour": [
           {
            "colorbar": {
             "outlinewidth": 0,
             "ticks": ""
            },
            "colorscale": [
             [
              0,
              "#0d0887"
             ],
             [
              0.1111111111111111,
              "#46039f"
             ],
             [
              0.2222222222222222,
              "#7201a8"
             ],
             [
              0.3333333333333333,
              "#9c179e"
             ],
             [
              0.4444444444444444,
              "#bd3786"
             ],
             [
              0.5555555555555556,
              "#d8576b"
             ],
             [
              0.6666666666666666,
              "#ed7953"
             ],
             [
              0.7777777777777778,
              "#fb9f3a"
             ],
             [
              0.8888888888888888,
              "#fdca26"
             ],
             [
              1,
              "#f0f921"
             ]
            ],
            "type": "histogram2dcontour"
           }
          ],
          "mesh3d": [
           {
            "colorbar": {
             "outlinewidth": 0,
             "ticks": ""
            },
            "type": "mesh3d"
           }
          ],
          "parcoords": [
           {
            "line": {
             "colorbar": {
              "outlinewidth": 0,
              "ticks": ""
             }
            },
            "type": "parcoords"
           }
          ],
          "pie": [
           {
            "automargin": true,
            "type": "pie"
           }
          ],
          "scatter": [
           {
            "fillpattern": {
             "fillmode": "overlay",
             "size": 10,
             "solidity": 0.2
            },
            "type": "scatter"
           }
          ],
          "scatter3d": [
           {
            "line": {
             "colorbar": {
              "outlinewidth": 0,
              "ticks": ""
             }
            },
            "marker": {
             "colorbar": {
              "outlinewidth": 0,
              "ticks": ""
             }
            },
            "type": "scatter3d"
           }
          ],
          "scattercarpet": [
           {
            "marker": {
             "colorbar": {
              "outlinewidth": 0,
              "ticks": ""
             }
            },
            "type": "scattercarpet"
           }
          ],
          "scattergeo": [
           {
            "marker": {
             "colorbar": {
              "outlinewidth": 0,
              "ticks": ""
             }
            },
            "type": "scattergeo"
           }
          ],
          "scattergl": [
           {
            "marker": {
             "colorbar": {
              "outlinewidth": 0,
              "ticks": ""
             }
            },
            "type": "scattergl"
           }
          ],
          "scattermapbox": [
           {
            "marker": {
             "colorbar": {
              "outlinewidth": 0,
              "ticks": ""
             }
            },
            "type": "scattermapbox"
           }
          ],
          "scatterpolar": [
           {
            "marker": {
             "colorbar": {
              "outlinewidth": 0,
              "ticks": ""
             }
            },
            "type": "scatterpolar"
           }
          ],
          "scatterpolargl": [
           {
            "marker": {
             "colorbar": {
              "outlinewidth": 0,
              "ticks": ""
             }
            },
            "type": "scatterpolargl"
           }
          ],
          "scatterternary": [
           {
            "marker": {
             "colorbar": {
              "outlinewidth": 0,
              "ticks": ""
             }
            },
            "type": "scatterternary"
           }
          ],
          "surface": [
           {
            "colorbar": {
             "outlinewidth": 0,
             "ticks": ""
            },
            "colorscale": [
             [
              0,
              "#0d0887"
             ],
             [
              0.1111111111111111,
              "#46039f"
             ],
             [
              0.2222222222222222,
              "#7201a8"
             ],
             [
              0.3333333333333333,
              "#9c179e"
             ],
             [
              0.4444444444444444,
              "#bd3786"
             ],
             [
              0.5555555555555556,
              "#d8576b"
             ],
             [
              0.6666666666666666,
              "#ed7953"
             ],
             [
              0.7777777777777778,
              "#fb9f3a"
             ],
             [
              0.8888888888888888,
              "#fdca26"
             ],
             [
              1,
              "#f0f921"
             ]
            ],
            "type": "surface"
           }
          ],
          "table": [
           {
            "cells": {
             "fill": {
              "color": "#EBF0F8"
             },
             "line": {
              "color": "white"
             }
            },
            "header": {
             "fill": {
              "color": "#C8D4E3"
             },
             "line": {
              "color": "white"
             }
            },
            "type": "table"
           }
          ]
         },
         "layout": {
          "annotationdefaults": {
           "arrowcolor": "#2a3f5f",
           "arrowhead": 0,
           "arrowwidth": 1
          },
          "autotypenumbers": "strict",
          "coloraxis": {
           "colorbar": {
            "outlinewidth": 0,
            "ticks": ""
           }
          },
          "colorscale": {
           "diverging": [
            [
             0,
             "#8e0152"
            ],
            [
             0.1,
             "#c51b7d"
            ],
            [
             0.2,
             "#de77ae"
            ],
            [
             0.3,
             "#f1b6da"
            ],
            [
             0.4,
             "#fde0ef"
            ],
            [
             0.5,
             "#f7f7f7"
            ],
            [
             0.6,
             "#e6f5d0"
            ],
            [
             0.7,
             "#b8e186"
            ],
            [
             0.8,
             "#7fbc41"
            ],
            [
             0.9,
             "#4d9221"
            ],
            [
             1,
             "#276419"
            ]
           ],
           "sequential": [
            [
             0,
             "#0d0887"
            ],
            [
             0.1111111111111111,
             "#46039f"
            ],
            [
             0.2222222222222222,
             "#7201a8"
            ],
            [
             0.3333333333333333,
             "#9c179e"
            ],
            [
             0.4444444444444444,
             "#bd3786"
            ],
            [
             0.5555555555555556,
             "#d8576b"
            ],
            [
             0.6666666666666666,
             "#ed7953"
            ],
            [
             0.7777777777777778,
             "#fb9f3a"
            ],
            [
             0.8888888888888888,
             "#fdca26"
            ],
            [
             1,
             "#f0f921"
            ]
           ],
           "sequentialminus": [
            [
             0,
             "#0d0887"
            ],
            [
             0.1111111111111111,
             "#46039f"
            ],
            [
             0.2222222222222222,
             "#7201a8"
            ],
            [
             0.3333333333333333,
             "#9c179e"
            ],
            [
             0.4444444444444444,
             "#bd3786"
            ],
            [
             0.5555555555555556,
             "#d8576b"
            ],
            [
             0.6666666666666666,
             "#ed7953"
            ],
            [
             0.7777777777777778,
             "#fb9f3a"
            ],
            [
             0.8888888888888888,
             "#fdca26"
            ],
            [
             1,
             "#f0f921"
            ]
           ]
          },
          "colorway": [
           "#636efa",
           "#EF553B",
           "#00cc96",
           "#ab63fa",
           "#FFA15A",
           "#19d3f3",
           "#FF6692",
           "#B6E880",
           "#FF97FF",
           "#FECB52"
          ],
          "font": {
           "color": "#2a3f5f"
          },
          "geo": {
           "bgcolor": "white",
           "lakecolor": "white",
           "landcolor": "#E5ECF6",
           "showlakes": true,
           "showland": true,
           "subunitcolor": "white"
          },
          "hoverlabel": {
           "align": "left"
          },
          "hovermode": "closest",
          "mapbox": {
           "style": "light"
          },
          "paper_bgcolor": "white",
          "plot_bgcolor": "#E5ECF6",
          "polar": {
           "angularaxis": {
            "gridcolor": "white",
            "linecolor": "white",
            "ticks": ""
           },
           "bgcolor": "#E5ECF6",
           "radialaxis": {
            "gridcolor": "white",
            "linecolor": "white",
            "ticks": ""
           }
          },
          "scene": {
           "xaxis": {
            "backgroundcolor": "#E5ECF6",
            "gridcolor": "white",
            "gridwidth": 2,
            "linecolor": "white",
            "showbackground": true,
            "ticks": "",
            "zerolinecolor": "white"
           },
           "yaxis": {
            "backgroundcolor": "#E5ECF6",
            "gridcolor": "white",
            "gridwidth": 2,
            "linecolor": "white",
            "showbackground": true,
            "ticks": "",
            "zerolinecolor": "white"
           },
           "zaxis": {
            "backgroundcolor": "#E5ECF6",
            "gridcolor": "white",
            "gridwidth": 2,
            "linecolor": "white",
            "showbackground": true,
            "ticks": "",
            "zerolinecolor": "white"
           }
          },
          "shapedefaults": {
           "line": {
            "color": "#2a3f5f"
           }
          },
          "ternary": {
           "aaxis": {
            "gridcolor": "white",
            "linecolor": "white",
            "ticks": ""
           },
           "baxis": {
            "gridcolor": "white",
            "linecolor": "white",
            "ticks": ""
           },
           "bgcolor": "#E5ECF6",
           "caxis": {
            "gridcolor": "white",
            "linecolor": "white",
            "ticks": ""
           }
          },
          "title": {
           "x": 0.05
          },
          "xaxis": {
           "automargin": true,
           "gridcolor": "white",
           "linecolor": "white",
           "ticks": "",
           "title": {
            "standoff": 15
           },
           "zerolinecolor": "white",
           "zerolinewidth": 2
          },
          "yaxis": {
           "automargin": true,
           "gridcolor": "white",
           "linecolor": "white",
           "ticks": "",
           "title": {
            "standoff": 15
           },
           "zerolinecolor": "white",
           "zerolinewidth": 2
          }
         }
        }
       }
      }
     },
     "metadata": {},
     "output_type": "display_data"
    }
   ],
   "source": [
    "fig = px.scatter_3d(df, x='feature1', y='feature2', z='target')\n",
    "\n",
    "fig.show()"
   ]
  },
  {
   "cell_type": "code",
   "execution_count": 53,
   "metadata": {},
   "outputs": [],
   "source": [
    "from sklearn.model_selection import train_test_split\n",
    "X_train,X_test,y_train,y_test = train_test_split(X,y,test_size=0.2,random_state=3)"
   ]
  },
  {
   "cell_type": "code",
   "execution_count": 54,
   "metadata": {},
   "outputs": [],
   "source": [
    "from sklearn.linear_model import LinearRegression\n",
    "lr = LinearRegression()"
   ]
  },
  {
   "cell_type": "code",
   "execution_count": 55,
   "metadata": {},
   "outputs": [
    {
     "data": {
      "text/html": [
       "<style>#sk-container-id-3 {\n",
       "  /* Definition of color scheme common for light and dark mode */\n",
       "  --sklearn-color-text: black;\n",
       "  --sklearn-color-line: gray;\n",
       "  /* Definition of color scheme for unfitted estimators */\n",
       "  --sklearn-color-unfitted-level-0: #fff5e6;\n",
       "  --sklearn-color-unfitted-level-1: #f6e4d2;\n",
       "  --sklearn-color-unfitted-level-2: #ffe0b3;\n",
       "  --sklearn-color-unfitted-level-3: chocolate;\n",
       "  /* Definition of color scheme for fitted estimators */\n",
       "  --sklearn-color-fitted-level-0: #f0f8ff;\n",
       "  --sklearn-color-fitted-level-1: #d4ebff;\n",
       "  --sklearn-color-fitted-level-2: #b3dbfd;\n",
       "  --sklearn-color-fitted-level-3: cornflowerblue;\n",
       "\n",
       "  /* Specific color for light theme */\n",
       "  --sklearn-color-text-on-default-background: var(--sg-text-color, var(--theme-code-foreground, var(--jp-content-font-color1, black)));\n",
       "  --sklearn-color-background: var(--sg-background-color, var(--theme-background, var(--jp-layout-color0, white)));\n",
       "  --sklearn-color-border-box: var(--sg-text-color, var(--theme-code-foreground, var(--jp-content-font-color1, black)));\n",
       "  --sklearn-color-icon: #696969;\n",
       "\n",
       "  @media (prefers-color-scheme: dark) {\n",
       "    /* Redefinition of color scheme for dark theme */\n",
       "    --sklearn-color-text-on-default-background: var(--sg-text-color, var(--theme-code-foreground, var(--jp-content-font-color1, white)));\n",
       "    --sklearn-color-background: var(--sg-background-color, var(--theme-background, var(--jp-layout-color0, #111)));\n",
       "    --sklearn-color-border-box: var(--sg-text-color, var(--theme-code-foreground, var(--jp-content-font-color1, white)));\n",
       "    --sklearn-color-icon: #878787;\n",
       "  }\n",
       "}\n",
       "\n",
       "#sk-container-id-3 {\n",
       "  color: var(--sklearn-color-text);\n",
       "}\n",
       "\n",
       "#sk-container-id-3 pre {\n",
       "  padding: 0;\n",
       "}\n",
       "\n",
       "#sk-container-id-3 input.sk-hidden--visually {\n",
       "  border: 0;\n",
       "  clip: rect(1px 1px 1px 1px);\n",
       "  clip: rect(1px, 1px, 1px, 1px);\n",
       "  height: 1px;\n",
       "  margin: -1px;\n",
       "  overflow: hidden;\n",
       "  padding: 0;\n",
       "  position: absolute;\n",
       "  width: 1px;\n",
       "}\n",
       "\n",
       "#sk-container-id-3 div.sk-dashed-wrapped {\n",
       "  border: 1px dashed var(--sklearn-color-line);\n",
       "  margin: 0 0.4em 0.5em 0.4em;\n",
       "  box-sizing: border-box;\n",
       "  padding-bottom: 0.4em;\n",
       "  background-color: var(--sklearn-color-background);\n",
       "}\n",
       "\n",
       "#sk-container-id-3 div.sk-container {\n",
       "  /* jupyter's `normalize.less` sets `[hidden] { display: none; }`\n",
       "     but bootstrap.min.css set `[hidden] { display: none !important; }`\n",
       "     so we also need the `!important` here to be able to override the\n",
       "     default hidden behavior on the sphinx rendered scikit-learn.org.\n",
       "     See: https://github.com/scikit-learn/scikit-learn/issues/21755 */\n",
       "  display: inline-block !important;\n",
       "  position: relative;\n",
       "}\n",
       "\n",
       "#sk-container-id-3 div.sk-text-repr-fallback {\n",
       "  display: none;\n",
       "}\n",
       "\n",
       "div.sk-parallel-item,\n",
       "div.sk-serial,\n",
       "div.sk-item {\n",
       "  /* draw centered vertical line to link estimators */\n",
       "  background-image: linear-gradient(var(--sklearn-color-text-on-default-background), var(--sklearn-color-text-on-default-background));\n",
       "  background-size: 2px 100%;\n",
       "  background-repeat: no-repeat;\n",
       "  background-position: center center;\n",
       "}\n",
       "\n",
       "/* Parallel-specific style estimator block */\n",
       "\n",
       "#sk-container-id-3 div.sk-parallel-item::after {\n",
       "  content: \"\";\n",
       "  width: 100%;\n",
       "  border-bottom: 2px solid var(--sklearn-color-text-on-default-background);\n",
       "  flex-grow: 1;\n",
       "}\n",
       "\n",
       "#sk-container-id-3 div.sk-parallel {\n",
       "  display: flex;\n",
       "  align-items: stretch;\n",
       "  justify-content: center;\n",
       "  background-color: var(--sklearn-color-background);\n",
       "  position: relative;\n",
       "}\n",
       "\n",
       "#sk-container-id-3 div.sk-parallel-item {\n",
       "  display: flex;\n",
       "  flex-direction: column;\n",
       "}\n",
       "\n",
       "#sk-container-id-3 div.sk-parallel-item:first-child::after {\n",
       "  align-self: flex-end;\n",
       "  width: 50%;\n",
       "}\n",
       "\n",
       "#sk-container-id-3 div.sk-parallel-item:last-child::after {\n",
       "  align-self: flex-start;\n",
       "  width: 50%;\n",
       "}\n",
       "\n",
       "#sk-container-id-3 div.sk-parallel-item:only-child::after {\n",
       "  width: 0;\n",
       "}\n",
       "\n",
       "/* Serial-specific style estimator block */\n",
       "\n",
       "#sk-container-id-3 div.sk-serial {\n",
       "  display: flex;\n",
       "  flex-direction: column;\n",
       "  align-items: center;\n",
       "  background-color: var(--sklearn-color-background);\n",
       "  padding-right: 1em;\n",
       "  padding-left: 1em;\n",
       "}\n",
       "\n",
       "\n",
       "/* Toggleable style: style used for estimator/Pipeline/ColumnTransformer box that is\n",
       "clickable and can be expanded/collapsed.\n",
       "- Pipeline and ColumnTransformer use this feature and define the default style\n",
       "- Estimators will overwrite some part of the style using the `sk-estimator` class\n",
       "*/\n",
       "\n",
       "/* Pipeline and ColumnTransformer style (default) */\n",
       "\n",
       "#sk-container-id-3 div.sk-toggleable {\n",
       "  /* Default theme specific background. It is overwritten whether we have a\n",
       "  specific estimator or a Pipeline/ColumnTransformer */\n",
       "  background-color: var(--sklearn-color-background);\n",
       "}\n",
       "\n",
       "/* Toggleable label */\n",
       "#sk-container-id-3 label.sk-toggleable__label {\n",
       "  cursor: pointer;\n",
       "  display: block;\n",
       "  width: 100%;\n",
       "  margin-bottom: 0;\n",
       "  padding: 0.5em;\n",
       "  box-sizing: border-box;\n",
       "  text-align: center;\n",
       "}\n",
       "\n",
       "#sk-container-id-3 label.sk-toggleable__label-arrow:before {\n",
       "  /* Arrow on the left of the label */\n",
       "  content: \"▸\";\n",
       "  float: left;\n",
       "  margin-right: 0.25em;\n",
       "  color: var(--sklearn-color-icon);\n",
       "}\n",
       "\n",
       "#sk-container-id-3 label.sk-toggleable__label-arrow:hover:before {\n",
       "  color: var(--sklearn-color-text);\n",
       "}\n",
       "\n",
       "/* Toggleable content - dropdown */\n",
       "\n",
       "#sk-container-id-3 div.sk-toggleable__content {\n",
       "  max-height: 0;\n",
       "  max-width: 0;\n",
       "  overflow: hidden;\n",
       "  text-align: left;\n",
       "  /* unfitted */\n",
       "  background-color: var(--sklearn-color-unfitted-level-0);\n",
       "}\n",
       "\n",
       "#sk-container-id-3 div.sk-toggleable__content.fitted {\n",
       "  /* fitted */\n",
       "  background-color: var(--sklearn-color-fitted-level-0);\n",
       "}\n",
       "\n",
       "#sk-container-id-3 div.sk-toggleable__content pre {\n",
       "  margin: 0.2em;\n",
       "  border-radius: 0.25em;\n",
       "  color: var(--sklearn-color-text);\n",
       "  /* unfitted */\n",
       "  background-color: var(--sklearn-color-unfitted-level-0);\n",
       "}\n",
       "\n",
       "#sk-container-id-3 div.sk-toggleable__content.fitted pre {\n",
       "  /* unfitted */\n",
       "  background-color: var(--sklearn-color-fitted-level-0);\n",
       "}\n",
       "\n",
       "#sk-container-id-3 input.sk-toggleable__control:checked~div.sk-toggleable__content {\n",
       "  /* Expand drop-down */\n",
       "  max-height: 200px;\n",
       "  max-width: 100%;\n",
       "  overflow: auto;\n",
       "}\n",
       "\n",
       "#sk-container-id-3 input.sk-toggleable__control:checked~label.sk-toggleable__label-arrow:before {\n",
       "  content: \"▾\";\n",
       "}\n",
       "\n",
       "/* Pipeline/ColumnTransformer-specific style */\n",
       "\n",
       "#sk-container-id-3 div.sk-label input.sk-toggleable__control:checked~label.sk-toggleable__label {\n",
       "  color: var(--sklearn-color-text);\n",
       "  background-color: var(--sklearn-color-unfitted-level-2);\n",
       "}\n",
       "\n",
       "#sk-container-id-3 div.sk-label.fitted input.sk-toggleable__control:checked~label.sk-toggleable__label {\n",
       "  background-color: var(--sklearn-color-fitted-level-2);\n",
       "}\n",
       "\n",
       "/* Estimator-specific style */\n",
       "\n",
       "/* Colorize estimator box */\n",
       "#sk-container-id-3 div.sk-estimator input.sk-toggleable__control:checked~label.sk-toggleable__label {\n",
       "  /* unfitted */\n",
       "  background-color: var(--sklearn-color-unfitted-level-2);\n",
       "}\n",
       "\n",
       "#sk-container-id-3 div.sk-estimator.fitted input.sk-toggleable__control:checked~label.sk-toggleable__label {\n",
       "  /* fitted */\n",
       "  background-color: var(--sklearn-color-fitted-level-2);\n",
       "}\n",
       "\n",
       "#sk-container-id-3 div.sk-label label.sk-toggleable__label,\n",
       "#sk-container-id-3 div.sk-label label {\n",
       "  /* The background is the default theme color */\n",
       "  color: var(--sklearn-color-text-on-default-background);\n",
       "}\n",
       "\n",
       "/* On hover, darken the color of the background */\n",
       "#sk-container-id-3 div.sk-label:hover label.sk-toggleable__label {\n",
       "  color: var(--sklearn-color-text);\n",
       "  background-color: var(--sklearn-color-unfitted-level-2);\n",
       "}\n",
       "\n",
       "/* Label box, darken color on hover, fitted */\n",
       "#sk-container-id-3 div.sk-label.fitted:hover label.sk-toggleable__label.fitted {\n",
       "  color: var(--sklearn-color-text);\n",
       "  background-color: var(--sklearn-color-fitted-level-2);\n",
       "}\n",
       "\n",
       "/* Estimator label */\n",
       "\n",
       "#sk-container-id-3 div.sk-label label {\n",
       "  font-family: monospace;\n",
       "  font-weight: bold;\n",
       "  display: inline-block;\n",
       "  line-height: 1.2em;\n",
       "}\n",
       "\n",
       "#sk-container-id-3 div.sk-label-container {\n",
       "  text-align: center;\n",
       "}\n",
       "\n",
       "/* Estimator-specific */\n",
       "#sk-container-id-3 div.sk-estimator {\n",
       "  font-family: monospace;\n",
       "  border: 1px dotted var(--sklearn-color-border-box);\n",
       "  border-radius: 0.25em;\n",
       "  box-sizing: border-box;\n",
       "  margin-bottom: 0.5em;\n",
       "  /* unfitted */\n",
       "  background-color: var(--sklearn-color-unfitted-level-0);\n",
       "}\n",
       "\n",
       "#sk-container-id-3 div.sk-estimator.fitted {\n",
       "  /* fitted */\n",
       "  background-color: var(--sklearn-color-fitted-level-0);\n",
       "}\n",
       "\n",
       "/* on hover */\n",
       "#sk-container-id-3 div.sk-estimator:hover {\n",
       "  /* unfitted */\n",
       "  background-color: var(--sklearn-color-unfitted-level-2);\n",
       "}\n",
       "\n",
       "#sk-container-id-3 div.sk-estimator.fitted:hover {\n",
       "  /* fitted */\n",
       "  background-color: var(--sklearn-color-fitted-level-2);\n",
       "}\n",
       "\n",
       "/* Specification for estimator info (e.g. \"i\" and \"?\") */\n",
       "\n",
       "/* Common style for \"i\" and \"?\" */\n",
       "\n",
       ".sk-estimator-doc-link,\n",
       "a:link.sk-estimator-doc-link,\n",
       "a:visited.sk-estimator-doc-link {\n",
       "  float: right;\n",
       "  font-size: smaller;\n",
       "  line-height: 1em;\n",
       "  font-family: monospace;\n",
       "  background-color: var(--sklearn-color-background);\n",
       "  border-radius: 1em;\n",
       "  height: 1em;\n",
       "  width: 1em;\n",
       "  text-decoration: none !important;\n",
       "  margin-left: 1ex;\n",
       "  /* unfitted */\n",
       "  border: var(--sklearn-color-unfitted-level-1) 1pt solid;\n",
       "  color: var(--sklearn-color-unfitted-level-1);\n",
       "}\n",
       "\n",
       ".sk-estimator-doc-link.fitted,\n",
       "a:link.sk-estimator-doc-link.fitted,\n",
       "a:visited.sk-estimator-doc-link.fitted {\n",
       "  /* fitted */\n",
       "  border: var(--sklearn-color-fitted-level-1) 1pt solid;\n",
       "  color: var(--sklearn-color-fitted-level-1);\n",
       "}\n",
       "\n",
       "/* On hover */\n",
       "div.sk-estimator:hover .sk-estimator-doc-link:hover,\n",
       ".sk-estimator-doc-link:hover,\n",
       "div.sk-label-container:hover .sk-estimator-doc-link:hover,\n",
       ".sk-estimator-doc-link:hover {\n",
       "  /* unfitted */\n",
       "  background-color: var(--sklearn-color-unfitted-level-3);\n",
       "  color: var(--sklearn-color-background);\n",
       "  text-decoration: none;\n",
       "}\n",
       "\n",
       "div.sk-estimator.fitted:hover .sk-estimator-doc-link.fitted:hover,\n",
       ".sk-estimator-doc-link.fitted:hover,\n",
       "div.sk-label-container:hover .sk-estimator-doc-link.fitted:hover,\n",
       ".sk-estimator-doc-link.fitted:hover {\n",
       "  /* fitted */\n",
       "  background-color: var(--sklearn-color-fitted-level-3);\n",
       "  color: var(--sklearn-color-background);\n",
       "  text-decoration: none;\n",
       "}\n",
       "\n",
       "/* Span, style for the box shown on hovering the info icon */\n",
       ".sk-estimator-doc-link span {\n",
       "  display: none;\n",
       "  z-index: 9999;\n",
       "  position: relative;\n",
       "  font-weight: normal;\n",
       "  right: .2ex;\n",
       "  padding: .5ex;\n",
       "  margin: .5ex;\n",
       "  width: min-content;\n",
       "  min-width: 20ex;\n",
       "  max-width: 50ex;\n",
       "  color: var(--sklearn-color-text);\n",
       "  box-shadow: 2pt 2pt 4pt #999;\n",
       "  /* unfitted */\n",
       "  background: var(--sklearn-color-unfitted-level-0);\n",
       "  border: .5pt solid var(--sklearn-color-unfitted-level-3);\n",
       "}\n",
       "\n",
       ".sk-estimator-doc-link.fitted span {\n",
       "  /* fitted */\n",
       "  background: var(--sklearn-color-fitted-level-0);\n",
       "  border: var(--sklearn-color-fitted-level-3);\n",
       "}\n",
       "\n",
       ".sk-estimator-doc-link:hover span {\n",
       "  display: block;\n",
       "}\n",
       "\n",
       "/* \"?\"-specific style due to the `<a>` HTML tag */\n",
       "\n",
       "#sk-container-id-3 a.estimator_doc_link {\n",
       "  float: right;\n",
       "  font-size: 1rem;\n",
       "  line-height: 1em;\n",
       "  font-family: monospace;\n",
       "  background-color: var(--sklearn-color-background);\n",
       "  border-radius: 1rem;\n",
       "  height: 1rem;\n",
       "  width: 1rem;\n",
       "  text-decoration: none;\n",
       "  /* unfitted */\n",
       "  color: var(--sklearn-color-unfitted-level-1);\n",
       "  border: var(--sklearn-color-unfitted-level-1) 1pt solid;\n",
       "}\n",
       "\n",
       "#sk-container-id-3 a.estimator_doc_link.fitted {\n",
       "  /* fitted */\n",
       "  border: var(--sklearn-color-fitted-level-1) 1pt solid;\n",
       "  color: var(--sklearn-color-fitted-level-1);\n",
       "}\n",
       "\n",
       "/* On hover */\n",
       "#sk-container-id-3 a.estimator_doc_link:hover {\n",
       "  /* unfitted */\n",
       "  background-color: var(--sklearn-color-unfitted-level-3);\n",
       "  color: var(--sklearn-color-background);\n",
       "  text-decoration: none;\n",
       "}\n",
       "\n",
       "#sk-container-id-3 a.estimator_doc_link.fitted:hover {\n",
       "  /* fitted */\n",
       "  background-color: var(--sklearn-color-fitted-level-3);\n",
       "}\n",
       "</style><div id=\"sk-container-id-3\" class=\"sk-top-container\"><div class=\"sk-text-repr-fallback\"><pre>LinearRegression()</pre><b>In a Jupyter environment, please rerun this cell to show the HTML representation or trust the notebook. <br />On GitHub, the HTML representation is unable to render, please try loading this page with nbviewer.org.</b></div><div class=\"sk-container\" hidden><div class=\"sk-item\"><div class=\"sk-estimator fitted sk-toggleable\"><input class=\"sk-toggleable__control sk-hidden--visually\" id=\"sk-estimator-id-3\" type=\"checkbox\" checked><label for=\"sk-estimator-id-3\" class=\"sk-toggleable__label fitted sk-toggleable__label-arrow fitted\">&nbsp;&nbsp;LinearRegression<a class=\"sk-estimator-doc-link fitted\" rel=\"noreferrer\" target=\"_blank\" href=\"https://scikit-learn.org/1.4/modules/generated/sklearn.linear_model.LinearRegression.html\">?<span>Documentation for LinearRegression</span></a><span class=\"sk-estimator-doc-link fitted\">i<span>Fitted</span></span></label><div class=\"sk-toggleable__content fitted\"><pre>LinearRegression()</pre></div> </div></div></div></div>"
      ],
      "text/plain": [
       "LinearRegression()"
      ]
     },
     "execution_count": 55,
     "metadata": {},
     "output_type": "execute_result"
    }
   ],
   "source": [
    "lr.fit(X_train,y_train)\n"
   ]
  },
  {
   "cell_type": "code",
   "execution_count": 56,
   "metadata": {},
   "outputs": [],
   "source": [
    "y_pred = lr.predict(X_test)\n"
   ]
  },
  {
   "cell_type": "code",
   "execution_count": 57,
   "metadata": {},
   "outputs": [
    {
     "name": "stdout",
     "output_type": "stream",
     "text": [
      "MAE 47.149972704612615\n",
      "MSE 3732.321765736825\n",
      "R2 score 0.6182288756212949\n"
     ]
    }
   ],
   "source": [
    "\n",
    "print(\"MAE\",mean_absolute_error(y_test,y_pred))\n",
    "print(\"MSE\",mean_squared_error(y_test,y_pred))\n",
    "print(\"R2 score\",r2_score(y_test,y_pred))\n"
   ]
  },
  {
   "cell_type": "code",
   "execution_count": 58,
   "metadata": {},
   "outputs": [
    {
     "name": "stderr",
     "output_type": "stream",
     "text": [
      "C:\\Users\\MRINMAY\\AppData\\Local\\Temp\\ipykernel_10476\\4089801139.py:7: FutureWarning:\n",
      "\n",
      "Series.ravel is deprecated. The underlying array is already 1D, so ravel is not necessary.  Use `to_numpy()` for conversion to a numpy array instead.\n",
      "\n"
     ]
    },
    {
     "data": {
      "application/vnd.plotly.v1+json": {
       "config": {
        "plotlyServerURL": "https://plot.ly"
       },
       "data": [
        {
         "hovertemplate": "x=%{x}<br>y=%{y}<br>z=%{z}<extra></extra>",
         "legendgroup": "",
         "marker": {
          "color": "#636efa",
          "symbol": "circle"
         },
         "mode": "markers",
         "name": "",
         "scene": "scene",
         "showlegend": false,
         "type": "scatter3d",
         "x": [
          -0.35971560800640034,
          1.6738375482953314,
          0.1631910347100687,
          -0.7438755457838349,
          -0.2681951135022425,
          0.7648734683130957,
          -0.3153504244781113,
          0.1517863675870243,
          -1.1416560561012523,
          0.2556146003166756,
          -0.8954673037063658,
          -0.050779587936139,
          0.8394646710130104,
          1.0750101654078141,
          -1.102602916333306,
          1.2897513964964975,
          -1.0106755698670358,
          1.4080406250626125,
          1.6168350849018982,
          0.5905313110261085,
          -0.4456268913906718,
          -0.6919151046916786,
          -0.3389291623457696,
          -1.359556792641984,
          -0.6841726805718755,
          -0.5481273808847085,
          0.4037611162988252,
          -1.7946763580428193,
          -0.18994450002591998,
          -0.9052846676105525,
          0.03398104568462685,
          0.34180552627892,
          -1.1216081357087828,
          -0.4010441748776265,
          0.3422510122964555,
          -0.4945608304655833,
          -0.2907537699531758,
          -0.043352361612985606,
          -0.7887024697128918,
          -0.04522026074554106,
          -0.2075813076626353,
          0.343925858973628,
          0.5123888959629197,
          1.3893927743313292,
          1.3316258578015818,
          0.30162608808461816,
          -0.03174807290727632,
          0.22127611800468683,
          -0.4653420548228861,
          0.3886418862291459,
          0.16728401337471743,
          -1.0810305267905882,
          1.1279361325608626,
          -1.73386730950933,
          0.5569102690845177,
          -0.11570446252563307,
          0.49658911035055747,
          1.6773919149479741,
          0.4531493594191345,
          0.15868100002377586,
          -0.2659074938891984,
          -0.5313872597888134,
          2.219597359457117,
          2.163455057987777,
          -1.0916485246512115,
          1.2462254551425553,
          1.804811291549875,
          1.1700676715400828,
          -0.7123959414159656,
          0.40277686043650424,
          0.775120858598635,
          -0.4619271615062973,
          0.307815788467547,
          -1.5982923823352457,
          0.5293675651707338,
          -0.06893197621940181,
          -0.3765897635673763,
          0.2835282744779696,
          0.7844832347777676,
          -0.9050042744735335,
          -0.1067705797502196,
          0.5487799352160826,
          0.9330984485417293,
          -0.8472115367743555,
          -1.4487707522238538,
          0.01970640371167201,
          -1.3547115733488644,
          0.0390135905059914,
          0.015028972179936657,
          1.0147568720578926,
          -1.1516831082759305,
          0.43234122413047466,
          0.3083118856564054,
          -0.30119418242321117,
          -1.142492825641922,
          -0.5196055920432247,
          -0.5258097058326255,
          -0.22685022989900513,
          1.7420180629232678,
          0.3885979581026793
         ],
         "y": [
          0.543358779168159,
          0.3209387070080894,
          -0.3208002590491155,
          0.4665029115639458,
          0.18297329373537496,
          -1.815979023251981,
          -0.762689563791031,
          0.18390660216263935,
          0.5690914552524561,
          0.859239788135141,
          1.8746773524877622,
          -1.1143160990949954,
          0.026733263792614675,
          -0.18328008640112153,
          -0.15051950327606,
          -0.7866735705113425,
          0.500338583323355,
          1.353566226471812,
          2.749411402160867,
          0.40730779304379744,
          1.6757854066365399,
          0.2846453270319647,
          0.7863361682314737,
          -1.0224692016710348,
          -1.760160035549698,
          -1.5268461597566052,
          -0.13225418757055363,
          -0.1870444895331159,
          0.0888953758725569,
          0.103218691979514,
          -2.0723573421018235,
          -0.5334806959496111,
          -1.6550746572008221,
          -0.4209462456559155,
          0.0776647147834733,
          -0.01791391739601709,
          -0.4951600360827165,
          -0.5709187180965414,
          0.6566448533860109,
          0.4792370684180419,
          -1.3884274613791745,
          1.373531747456315,
          -0.6019403334852645,
          -0.9221896000764392,
          1.315179617358025,
          1.1048136328096891,
          1.9870667460704954,
          -0.41781386256563613,
          -0.49880536671099374,
          -2.6396886301039535,
          0.6578785451003043,
          0.9634675121306757,
          1.2314593676388519,
          0.012864431789603583,
          -0.9636313616632174,
          -0.967714134824846,
          1.2307965637027336,
          -2.1305834427310324,
          -0.9868092878467369,
          0.589115206633202,
          -0.699685868965903,
          -1.1636353427988526,
          0.09049060773603694,
          0.016397708992529465,
          0.7780669803274822,
          -0.9532101900469334,
          1.8389889912189668,
          -1.3199118854348637,
          1.118204613957065,
          0.01714298488090866,
          1.4129789741398877,
          -2.7466106380165316,
          1.9675093447292553,
          0.32823942240478643,
          0.8444747992028465,
          0.6841170732556624,
          0.8078058495903702,
          -0.3805783491452187,
          0.6321754431998745,
          1.4806710505000786,
          -1.499974658225802,
          -1.4036492147038044,
          -0.19006409501279192,
          -1.684750862137088,
          -0.22394294442727328,
          -0.2985697575335854,
          -0.19216052836034894,
          -1.5725725843137013,
          1.1215873918410209,
          -0.24702400234870348,
          -1.5699195868287854,
          -0.7011639583778522,
          0.015181491663183156,
          1.0188660921646568,
          -1.4407743804456954,
          -0.14363157566047927,
          3.1168106144375436,
          -0.23120146887089219,
          0.7690290399711114,
          0.5360606026946003
         ],
         "z": [
          -6.964514607720993,
          61.95644832095256,
          31.857418676975872,
          -33.498611046498354,
          17.625188120557603,
          -115.2309572384092,
          -185.66980284983558,
          -39.71147025484879,
          52.564641808146064,
          32.69758556266203,
          105.61724295082671,
          -28.077565911207742,
          -93.26345268844489,
          71.14881259746222,
          26.57502195851952,
          -69.53674812686401,
          40.01917138877787,
          100.58103658177899,
          137.77666134484957,
          78.23033508987439,
          58.86192872671684,
          -34.301925355936675,
          -36.44542445087611,
          -147.23497825850387,
          -117.03744297550742,
          -102.88949144423005,
          130.5705373415142,
          -118.86050194569707,
          56.037164422844214,
          -7.601887951575413,
          3.47484414661848,
          60.660845809158985,
          -76.86030982536188,
          11.140741514857304,
          -17.66710954360964,
          27.55936556904143,
          39.59980196718583,
          -32.6404024160393,
          128.9851202679649,
          44.1155777175272,
          -126.87419499914407,
          181.4649852878871,
          0.9856912615361324,
          -57.67665977547195,
          125.1686640378707,
          75.58043793634178,
          104.75231378671708,
          10.378789298963582,
          21.73520584422979,
          -143.02213864316903,
          77.00142086786389,
          -38.11629281718212,
          130.81245132149982,
          -12.048155575990194,
          -68.01599681205938,
          -69.63534265044379,
          14.30942613634302,
          -133.61672185225615,
          -28.938998749495845,
          142.74101990626238,
          -45.77323518781635,
          -119.82843145548503,
          92.49029476425018,
          33.079102310682714,
          90.10833890059595,
          -13.67792266612323,
          116.04188601456215,
          -94.67344618707361,
          59.58480730357344,
          -79.41465801433624,
          63.980451292463414,
          -124.18940626842752,
          106.80137213591145,
          46.97910572780036,
          7.802941389017775,
          64.23260242736829,
          22.960284340279856,
          -128.39242730396407,
          72.85950294910313,
          35.1896406226748,
          4.99607184136805,
          -146.57898844955318,
          30.754264347804778,
          -47.07310529511539,
          -33.6536796051474,
          -20.5188044050217,
          99.41142711799888,
          -33.61046867511162,
          55.19445861580609,
          68.29632175440102,
          -129.0537961966634,
          -14.57335982711394,
          -3.184908067154364,
          -1.2097498148885322,
          -84.3489406581379,
          -64.86718568735698,
          191.30839871633844,
          -26.97103299461674,
          76.05062414753489,
          54.401523530916435
         ]
        },
        {
         "type": "surface",
         "x": [
          -1.7946763580428193,
          -1.348645944987271,
          -0.9026155319317224,
          -0.4565851188761738,
          -0.010554705820625454,
          0.4354757072349229,
          0.8815061202904717,
          1.32753653334602,
          1.7735669464015684,
          2.219597359457117
         ],
         "y": [
          -2.7466106380165316,
          -2.0951193877438565,
          -1.4436281374711815,
          -0.7921368871985064,
          -0.14064563692583132,
          0.5108456133468438,
          1.1623368636195188,
          1.8138281138921934,
          2.465319364164869,
          3.1168106144375436
         ],
         "z": [
          [
           -156.6823960330018,
           -150.24245744350083,
           -143.80251885399986,
           -137.36258026449886,
           -130.9226416749979,
           -124.4827030854969,
           -118.04276449599593,
           -111.60282590649494,
           -105.16288731699397,
           -98.72294872749299
          ],
          [
           -123.72201827504102,
           -117.28207968554004,
           -110.84214109603906,
           -104.40220250653807,
           -97.9622639170371,
           -91.52232532753612,
           -85.08238673803514,
           -78.64244814853416,
           -72.20250955903319,
           -65.7625709695322
          ],
          [
           -90.76164051708022,
           -84.32170192757926,
           -77.88176333807827,
           -71.44182474857729,
           -65.00188615907632,
           -58.56194756957534,
           -52.122008980074355,
           -45.68207039057337,
           -39.242131801072404,
           -32.80219321157142
          ],
          [
           -57.80126275911944,
           -51.36132416961846,
           -44.92138558011748,
           -38.481446990616504,
           -32.04150840111552,
           -25.601569811614546,
           -19.161631222113563,
           -12.721692632612582,
           -6.281754043111606,
           0.15818454638937318
          ],
          [
           -24.840885001158647,
           -18.40094641165767,
           -11.96100782215669,
           -5.5210692326557105,
           0.9188693568452679,
           7.3588079463462455,
           13.79874653584723,
           20.238685125348205,
           26.67862371484918,
           33.118562304350164
          ],
          [
           8.11949275680214,
           14.559431346303116,
           20.999369935804097,
           27.43930852530508,
           33.879247114806056,
           40.31918570430703,
           46.759124293808014,
           53.199062883309,
           59.639001472809966,
           66.07894006231095
          ],
          [
           41.07987051476292,
           47.5198091042639,
           53.95974769376488,
           60.399686283265865,
           66.83962487276685,
           73.27956346226782,
           79.7195020517688,
           86.15944064126978,
           92.59937923077075,
           99.03931782027173
          ],
          [
           74.04024827272369,
           80.48018686222467,
           86.92012545172565,
           93.36006404122664,
           99.8000026307276,
           106.23994122022859,
           112.67987980972957,
           119.11981839923055,
           125.55975698873152,
           131.99969557823252
          ],
          [
           107.00062603068449,
           113.44056462018547,
           119.88050320968645,
           126.32044179918744,
           132.76038038868842,
           139.2003189781894,
           145.64025756769036,
           152.08019615719135,
           158.52013474669232,
           164.96007333619332
          ],
          [
           139.9610037886453,
           146.40094237814625,
           152.84088096764722,
           159.28081955714822,
           165.7207581466492,
           172.16069673615016,
           178.60063532565115,
           185.04057391515212,
           191.48051250465312,
           197.9204510941541
          ]
         ]
        }
       ],
       "layout": {
        "legend": {
         "tracegroupgap": 0
        },
        "margin": {
         "t": 60
        },
        "scene": {
         "domain": {
          "x": [
           0,
           1
          ],
          "y": [
           0,
           1
          ]
         },
         "xaxis": {
          "title": {
           "text": "x"
          }
         },
         "yaxis": {
          "title": {
           "text": "y"
          }
         },
         "zaxis": {
          "title": {
           "text": "z"
          }
         }
        },
        "template": {
         "data": {
          "bar": [
           {
            "error_x": {
             "color": "#2a3f5f"
            },
            "error_y": {
             "color": "#2a3f5f"
            },
            "marker": {
             "line": {
              "color": "#E5ECF6",
              "width": 0.5
             },
             "pattern": {
              "fillmode": "overlay",
              "size": 10,
              "solidity": 0.2
             }
            },
            "type": "bar"
           }
          ],
          "barpolar": [
           {
            "marker": {
             "line": {
              "color": "#E5ECF6",
              "width": 0.5
             },
             "pattern": {
              "fillmode": "overlay",
              "size": 10,
              "solidity": 0.2
             }
            },
            "type": "barpolar"
           }
          ],
          "carpet": [
           {
            "aaxis": {
             "endlinecolor": "#2a3f5f",
             "gridcolor": "white",
             "linecolor": "white",
             "minorgridcolor": "white",
             "startlinecolor": "#2a3f5f"
            },
            "baxis": {
             "endlinecolor": "#2a3f5f",
             "gridcolor": "white",
             "linecolor": "white",
             "minorgridcolor": "white",
             "startlinecolor": "#2a3f5f"
            },
            "type": "carpet"
           }
          ],
          "choropleth": [
           {
            "colorbar": {
             "outlinewidth": 0,
             "ticks": ""
            },
            "type": "choropleth"
           }
          ],
          "contour": [
           {
            "colorbar": {
             "outlinewidth": 0,
             "ticks": ""
            },
            "colorscale": [
             [
              0,
              "#0d0887"
             ],
             [
              0.1111111111111111,
              "#46039f"
             ],
             [
              0.2222222222222222,
              "#7201a8"
             ],
             [
              0.3333333333333333,
              "#9c179e"
             ],
             [
              0.4444444444444444,
              "#bd3786"
             ],
             [
              0.5555555555555556,
              "#d8576b"
             ],
             [
              0.6666666666666666,
              "#ed7953"
             ],
             [
              0.7777777777777778,
              "#fb9f3a"
             ],
             [
              0.8888888888888888,
              "#fdca26"
             ],
             [
              1,
              "#f0f921"
             ]
            ],
            "type": "contour"
           }
          ],
          "contourcarpet": [
           {
            "colorbar": {
             "outlinewidth": 0,
             "ticks": ""
            },
            "type": "contourcarpet"
           }
          ],
          "heatmap": [
           {
            "colorbar": {
             "outlinewidth": 0,
             "ticks": ""
            },
            "colorscale": [
             [
              0,
              "#0d0887"
             ],
             [
              0.1111111111111111,
              "#46039f"
             ],
             [
              0.2222222222222222,
              "#7201a8"
             ],
             [
              0.3333333333333333,
              "#9c179e"
             ],
             [
              0.4444444444444444,
              "#bd3786"
             ],
             [
              0.5555555555555556,
              "#d8576b"
             ],
             [
              0.6666666666666666,
              "#ed7953"
             ],
             [
              0.7777777777777778,
              "#fb9f3a"
             ],
             [
              0.8888888888888888,
              "#fdca26"
             ],
             [
              1,
              "#f0f921"
             ]
            ],
            "type": "heatmap"
           }
          ],
          "heatmapgl": [
           {
            "colorbar": {
             "outlinewidth": 0,
             "ticks": ""
            },
            "colorscale": [
             [
              0,
              "#0d0887"
             ],
             [
              0.1111111111111111,
              "#46039f"
             ],
             [
              0.2222222222222222,
              "#7201a8"
             ],
             [
              0.3333333333333333,
              "#9c179e"
             ],
             [
              0.4444444444444444,
              "#bd3786"
             ],
             [
              0.5555555555555556,
              "#d8576b"
             ],
             [
              0.6666666666666666,
              "#ed7953"
             ],
             [
              0.7777777777777778,
              "#fb9f3a"
             ],
             [
              0.8888888888888888,
              "#fdca26"
             ],
             [
              1,
              "#f0f921"
             ]
            ],
            "type": "heatmapgl"
           }
          ],
          "histogram": [
           {
            "marker": {
             "pattern": {
              "fillmode": "overlay",
              "size": 10,
              "solidity": 0.2
             }
            },
            "type": "histogram"
           }
          ],
          "histogram2d": [
           {
            "colorbar": {
             "outlinewidth": 0,
             "ticks": ""
            },
            "colorscale": [
             [
              0,
              "#0d0887"
             ],
             [
              0.1111111111111111,
              "#46039f"
             ],
             [
              0.2222222222222222,
              "#7201a8"
             ],
             [
              0.3333333333333333,
              "#9c179e"
             ],
             [
              0.4444444444444444,
              "#bd3786"
             ],
             [
              0.5555555555555556,
              "#d8576b"
             ],
             [
              0.6666666666666666,
              "#ed7953"
             ],
             [
              0.7777777777777778,
              "#fb9f3a"
             ],
             [
              0.8888888888888888,
              "#fdca26"
             ],
             [
              1,
              "#f0f921"
             ]
            ],
            "type": "histogram2d"
           }
          ],
          "histogram2dcontour": [
           {
            "colorbar": {
             "outlinewidth": 0,
             "ticks": ""
            },
            "colorscale": [
             [
              0,
              "#0d0887"
             ],
             [
              0.1111111111111111,
              "#46039f"
             ],
             [
              0.2222222222222222,
              "#7201a8"
             ],
             [
              0.3333333333333333,
              "#9c179e"
             ],
             [
              0.4444444444444444,
              "#bd3786"
             ],
             [
              0.5555555555555556,
              "#d8576b"
             ],
             [
              0.6666666666666666,
              "#ed7953"
             ],
             [
              0.7777777777777778,
              "#fb9f3a"
             ],
             [
              0.8888888888888888,
              "#fdca26"
             ],
             [
              1,
              "#f0f921"
             ]
            ],
            "type": "histogram2dcontour"
           }
          ],
          "mesh3d": [
           {
            "colorbar": {
             "outlinewidth": 0,
             "ticks": ""
            },
            "type": "mesh3d"
           }
          ],
          "parcoords": [
           {
            "line": {
             "colorbar": {
              "outlinewidth": 0,
              "ticks": ""
             }
            },
            "type": "parcoords"
           }
          ],
          "pie": [
           {
            "automargin": true,
            "type": "pie"
           }
          ],
          "scatter": [
           {
            "fillpattern": {
             "fillmode": "overlay",
             "size": 10,
             "solidity": 0.2
            },
            "type": "scatter"
           }
          ],
          "scatter3d": [
           {
            "line": {
             "colorbar": {
              "outlinewidth": 0,
              "ticks": ""
             }
            },
            "marker": {
             "colorbar": {
              "outlinewidth": 0,
              "ticks": ""
             }
            },
            "type": "scatter3d"
           }
          ],
          "scattercarpet": [
           {
            "marker": {
             "colorbar": {
              "outlinewidth": 0,
              "ticks": ""
             }
            },
            "type": "scattercarpet"
           }
          ],
          "scattergeo": [
           {
            "marker": {
             "colorbar": {
              "outlinewidth": 0,
              "ticks": ""
             }
            },
            "type": "scattergeo"
           }
          ],
          "scattergl": [
           {
            "marker": {
             "colorbar": {
              "outlinewidth": 0,
              "ticks": ""
             }
            },
            "type": "scattergl"
           }
          ],
          "scattermapbox": [
           {
            "marker": {
             "colorbar": {
              "outlinewidth": 0,
              "ticks": ""
             }
            },
            "type": "scattermapbox"
           }
          ],
          "scatterpolar": [
           {
            "marker": {
             "colorbar": {
              "outlinewidth": 0,
              "ticks": ""
             }
            },
            "type": "scatterpolar"
           }
          ],
          "scatterpolargl": [
           {
            "marker": {
             "colorbar": {
              "outlinewidth": 0,
              "ticks": ""
             }
            },
            "type": "scatterpolargl"
           }
          ],
          "scatterternary": [
           {
            "marker": {
             "colorbar": {
              "outlinewidth": 0,
              "ticks": ""
             }
            },
            "type": "scatterternary"
           }
          ],
          "surface": [
           {
            "colorbar": {
             "outlinewidth": 0,
             "ticks": ""
            },
            "colorscale": [
             [
              0,
              "#0d0887"
             ],
             [
              0.1111111111111111,
              "#46039f"
             ],
             [
              0.2222222222222222,
              "#7201a8"
             ],
             [
              0.3333333333333333,
              "#9c179e"
             ],
             [
              0.4444444444444444,
              "#bd3786"
             ],
             [
              0.5555555555555556,
              "#d8576b"
             ],
             [
              0.6666666666666666,
              "#ed7953"
             ],
             [
              0.7777777777777778,
              "#fb9f3a"
             ],
             [
              0.8888888888888888,
              "#fdca26"
             ],
             [
              1,
              "#f0f921"
             ]
            ],
            "type": "surface"
           }
          ],
          "table": [
           {
            "cells": {
             "fill": {
              "color": "#EBF0F8"
             },
             "line": {
              "color": "white"
             }
            },
            "header": {
             "fill": {
              "color": "#C8D4E3"
             },
             "line": {
              "color": "white"
             }
            },
            "type": "table"
           }
          ]
         },
         "layout": {
          "annotationdefaults": {
           "arrowcolor": "#2a3f5f",
           "arrowhead": 0,
           "arrowwidth": 1
          },
          "autotypenumbers": "strict",
          "coloraxis": {
           "colorbar": {
            "outlinewidth": 0,
            "ticks": ""
           }
          },
          "colorscale": {
           "diverging": [
            [
             0,
             "#8e0152"
            ],
            [
             0.1,
             "#c51b7d"
            ],
            [
             0.2,
             "#de77ae"
            ],
            [
             0.3,
             "#f1b6da"
            ],
            [
             0.4,
             "#fde0ef"
            ],
            [
             0.5,
             "#f7f7f7"
            ],
            [
             0.6,
             "#e6f5d0"
            ],
            [
             0.7,
             "#b8e186"
            ],
            [
             0.8,
             "#7fbc41"
            ],
            [
             0.9,
             "#4d9221"
            ],
            [
             1,
             "#276419"
            ]
           ],
           "sequential": [
            [
             0,
             "#0d0887"
            ],
            [
             0.1111111111111111,
             "#46039f"
            ],
            [
             0.2222222222222222,
             "#7201a8"
            ],
            [
             0.3333333333333333,
             "#9c179e"
            ],
            [
             0.4444444444444444,
             "#bd3786"
            ],
            [
             0.5555555555555556,
             "#d8576b"
            ],
            [
             0.6666666666666666,
             "#ed7953"
            ],
            [
             0.7777777777777778,
             "#fb9f3a"
            ],
            [
             0.8888888888888888,
             "#fdca26"
            ],
            [
             1,
             "#f0f921"
            ]
           ],
           "sequentialminus": [
            [
             0,
             "#0d0887"
            ],
            [
             0.1111111111111111,
             "#46039f"
            ],
            [
             0.2222222222222222,
             "#7201a8"
            ],
            [
             0.3333333333333333,
             "#9c179e"
            ],
            [
             0.4444444444444444,
             "#bd3786"
            ],
            [
             0.5555555555555556,
             "#d8576b"
            ],
            [
             0.6666666666666666,
             "#ed7953"
            ],
            [
             0.7777777777777778,
             "#fb9f3a"
            ],
            [
             0.8888888888888888,
             "#fdca26"
            ],
            [
             1,
             "#f0f921"
            ]
           ]
          },
          "colorway": [
           "#636efa",
           "#EF553B",
           "#00cc96",
           "#ab63fa",
           "#FFA15A",
           "#19d3f3",
           "#FF6692",
           "#B6E880",
           "#FF97FF",
           "#FECB52"
          ],
          "font": {
           "color": "#2a3f5f"
          },
          "geo": {
           "bgcolor": "white",
           "lakecolor": "white",
           "landcolor": "#E5ECF6",
           "showlakes": true,
           "showland": true,
           "subunitcolor": "white"
          },
          "hoverlabel": {
           "align": "left"
          },
          "hovermode": "closest",
          "mapbox": {
           "style": "light"
          },
          "paper_bgcolor": "white",
          "plot_bgcolor": "#E5ECF6",
          "polar": {
           "angularaxis": {
            "gridcolor": "white",
            "linecolor": "white",
            "ticks": ""
           },
           "bgcolor": "#E5ECF6",
           "radialaxis": {
            "gridcolor": "white",
            "linecolor": "white",
            "ticks": ""
           }
          },
          "scene": {
           "xaxis": {
            "backgroundcolor": "#E5ECF6",
            "gridcolor": "white",
            "gridwidth": 2,
            "linecolor": "white",
            "showbackground": true,
            "ticks": "",
            "zerolinecolor": "white"
           },
           "yaxis": {
            "backgroundcolor": "#E5ECF6",
            "gridcolor": "white",
            "gridwidth": 2,
            "linecolor": "white",
            "showbackground": true,
            "ticks": "",
            "zerolinecolor": "white"
           },
           "zaxis": {
            "backgroundcolor": "#E5ECF6",
            "gridcolor": "white",
            "gridwidth": 2,
            "linecolor": "white",
            "showbackground": true,
            "ticks": "",
            "zerolinecolor": "white"
           }
          },
          "shapedefaults": {
           "line": {
            "color": "#2a3f5f"
           }
          },
          "ternary": {
           "aaxis": {
            "gridcolor": "white",
            "linecolor": "white",
            "ticks": ""
           },
           "baxis": {
            "gridcolor": "white",
            "linecolor": "white",
            "ticks": ""
           },
           "bgcolor": "#E5ECF6",
           "caxis": {
            "gridcolor": "white",
            "linecolor": "white",
            "ticks": ""
           }
          },
          "title": {
           "x": 0.05
          },
          "xaxis": {
           "automargin": true,
           "gridcolor": "white",
           "linecolor": "white",
           "ticks": "",
           "title": {
            "standoff": 15
           },
           "zerolinecolor": "white",
           "zerolinewidth": 2
          },
          "yaxis": {
           "automargin": true,
           "gridcolor": "white",
           "linecolor": "white",
           "ticks": "",
           "title": {
            "standoff": 15
           },
           "zerolinecolor": "white",
           "zerolinewidth": 2
          }
         }
        }
       }
      }
     },
     "metadata": {},
     "output_type": "display_data"
    }
   ],
   "source": [
    "x_range = np.linspace(df['feature1'].min(), df['feature1'].max(), 10)\n",
    "y_range = np.linspace(df['feature2'].min(), df['feature2'].max(), 10)\n",
    "x_grid, y_grid = np.meshgrid(x_range, y_range)\n",
    "final = np.vstack((x_grid.ravel().reshape(1,100),y_grid.ravel().reshape(1,100))).T\n",
    "z_final = lr.predict(final).reshape(10,10)\n",
    "\n",
    "fig = px.scatter_3d(df, x=df['feature1'].ravel(), y=df['feature2'].ravel(), z=df['target'].ravel())\n",
    "\n",
    "fig.add_trace(go.Surface(x = x_range, y = y_range, z =z_final ))\n",
    "\n",
    "fig.show()"
   ]
  },
  {
   "cell_type": "code",
   "execution_count": null,
   "metadata": {},
   "outputs": [],
   "source": [
    "\n",
    "\n"
   ]
  },
  {
   "cell_type": "code",
   "execution_count": 59,
   "metadata": {},
   "outputs": [],
   "source": [
    "\n",
    "\n",
    "# Prepare data for the best-fit plane\n",
    "x_range = np.linspace(df['feature1'].min(), df['feature1'].max(), 10)\n",
    "y_range = np.linspace(df['feature2'].min(), df['feature2'].max(), 10)\n",
    "x_grid, y_grid = np.meshgrid(x_range, y_range)\n",
    "z_grid = lr.intercept_ + lr.coef_[0] * x_grid + lr.coef_[1] * y_grid\n",
    "\n",
    "# Visualize data points and regression plane\n",
    "fig = go.Figure()"
   ]
  },
  {
   "cell_type": "markdown",
   "metadata": {},
   "source": [
    "# Another Method for Visualiztion\n"
   ]
  },
  {
   "cell_type": "code",
   "execution_count": 60,
   "metadata": {},
   "outputs": [
    {
     "data": {
      "application/vnd.plotly.v1+json": {
       "config": {
        "plotlyServerURL": "https://plot.ly"
       },
       "data": [
        {
         "marker": {
          "color": "blue",
          "size": 5
         },
         "mode": "markers",
         "name": "Data Points",
         "type": "scatter3d",
         "x": [
          -0.35971560800640034,
          1.6738375482953314,
          0.1631910347100687,
          -0.7438755457838349,
          -0.2681951135022425,
          0.7648734683130957,
          -0.3153504244781113,
          0.1517863675870243,
          -1.1416560561012523,
          0.2556146003166756,
          -0.8954673037063658,
          -0.050779587936139,
          0.8394646710130104,
          1.0750101654078141,
          -1.102602916333306,
          1.2897513964964975,
          -1.0106755698670358,
          1.4080406250626125,
          1.6168350849018982,
          0.5905313110261085,
          -0.4456268913906718,
          -0.6919151046916786,
          -0.3389291623457696,
          -1.359556792641984,
          -0.6841726805718755,
          -0.5481273808847085,
          0.4037611162988252,
          -1.7946763580428193,
          -0.18994450002591998,
          -0.9052846676105525,
          0.03398104568462685,
          0.34180552627892,
          -1.1216081357087828,
          -0.4010441748776265,
          0.3422510122964555,
          -0.4945608304655833,
          -0.2907537699531758,
          -0.043352361612985606,
          -0.7887024697128918,
          -0.04522026074554106,
          -0.2075813076626353,
          0.343925858973628,
          0.5123888959629197,
          1.3893927743313292,
          1.3316258578015818,
          0.30162608808461816,
          -0.03174807290727632,
          0.22127611800468683,
          -0.4653420548228861,
          0.3886418862291459,
          0.16728401337471743,
          -1.0810305267905882,
          1.1279361325608626,
          -1.73386730950933,
          0.5569102690845177,
          -0.11570446252563307,
          0.49658911035055747,
          1.6773919149479741,
          0.4531493594191345,
          0.15868100002377586,
          -0.2659074938891984,
          -0.5313872597888134,
          2.219597359457117,
          2.163455057987777,
          -1.0916485246512115,
          1.2462254551425553,
          1.804811291549875,
          1.1700676715400828,
          -0.7123959414159656,
          0.40277686043650424,
          0.775120858598635,
          -0.4619271615062973,
          0.307815788467547,
          -1.5982923823352457,
          0.5293675651707338,
          -0.06893197621940181,
          -0.3765897635673763,
          0.2835282744779696,
          0.7844832347777676,
          -0.9050042744735335,
          -0.1067705797502196,
          0.5487799352160826,
          0.9330984485417293,
          -0.8472115367743555,
          -1.4487707522238538,
          0.01970640371167201,
          -1.3547115733488644,
          0.0390135905059914,
          0.015028972179936657,
          1.0147568720578926,
          -1.1516831082759305,
          0.43234122413047466,
          0.3083118856564054,
          -0.30119418242321117,
          -1.142492825641922,
          -0.5196055920432247,
          -0.5258097058326255,
          -0.22685022989900513,
          1.7420180629232678,
          0.3885979581026793
         ],
         "y": [
          0.543358779168159,
          0.3209387070080894,
          -0.3208002590491155,
          0.4665029115639458,
          0.18297329373537496,
          -1.815979023251981,
          -0.762689563791031,
          0.18390660216263935,
          0.5690914552524561,
          0.859239788135141,
          1.8746773524877622,
          -1.1143160990949954,
          0.026733263792614675,
          -0.18328008640112153,
          -0.15051950327606,
          -0.7866735705113425,
          0.500338583323355,
          1.353566226471812,
          2.749411402160867,
          0.40730779304379744,
          1.6757854066365399,
          0.2846453270319647,
          0.7863361682314737,
          -1.0224692016710348,
          -1.760160035549698,
          -1.5268461597566052,
          -0.13225418757055363,
          -0.1870444895331159,
          0.0888953758725569,
          0.103218691979514,
          -2.0723573421018235,
          -0.5334806959496111,
          -1.6550746572008221,
          -0.4209462456559155,
          0.0776647147834733,
          -0.01791391739601709,
          -0.4951600360827165,
          -0.5709187180965414,
          0.6566448533860109,
          0.4792370684180419,
          -1.3884274613791745,
          1.373531747456315,
          -0.6019403334852645,
          -0.9221896000764392,
          1.315179617358025,
          1.1048136328096891,
          1.9870667460704954,
          -0.41781386256563613,
          -0.49880536671099374,
          -2.6396886301039535,
          0.6578785451003043,
          0.9634675121306757,
          1.2314593676388519,
          0.012864431789603583,
          -0.9636313616632174,
          -0.967714134824846,
          1.2307965637027336,
          -2.1305834427310324,
          -0.9868092878467369,
          0.589115206633202,
          -0.699685868965903,
          -1.1636353427988526,
          0.09049060773603694,
          0.016397708992529465,
          0.7780669803274822,
          -0.9532101900469334,
          1.8389889912189668,
          -1.3199118854348637,
          1.118204613957065,
          0.01714298488090866,
          1.4129789741398877,
          -2.7466106380165316,
          1.9675093447292553,
          0.32823942240478643,
          0.8444747992028465,
          0.6841170732556624,
          0.8078058495903702,
          -0.3805783491452187,
          0.6321754431998745,
          1.4806710505000786,
          -1.499974658225802,
          -1.4036492147038044,
          -0.19006409501279192,
          -1.684750862137088,
          -0.22394294442727328,
          -0.2985697575335854,
          -0.19216052836034894,
          -1.5725725843137013,
          1.1215873918410209,
          -0.24702400234870348,
          -1.5699195868287854,
          -0.7011639583778522,
          0.015181491663183156,
          1.0188660921646568,
          -1.4407743804456954,
          -0.14363157566047927,
          3.1168106144375436,
          -0.23120146887089219,
          0.7690290399711114,
          0.5360606026946003
         ],
         "z": [
          -6.964514607720993,
          61.95644832095256,
          31.857418676975872,
          -33.498611046498354,
          17.625188120557603,
          -115.2309572384092,
          -185.66980284983558,
          -39.71147025484879,
          52.564641808146064,
          32.69758556266203,
          105.61724295082671,
          -28.077565911207742,
          -93.26345268844489,
          71.14881259746222,
          26.57502195851952,
          -69.53674812686401,
          40.01917138877787,
          100.58103658177899,
          137.77666134484957,
          78.23033508987439,
          58.86192872671684,
          -34.301925355936675,
          -36.44542445087611,
          -147.23497825850387,
          -117.03744297550742,
          -102.88949144423005,
          130.5705373415142,
          -118.86050194569707,
          56.037164422844214,
          -7.601887951575413,
          3.47484414661848,
          60.660845809158985,
          -76.86030982536188,
          11.140741514857304,
          -17.66710954360964,
          27.55936556904143,
          39.59980196718583,
          -32.6404024160393,
          128.9851202679649,
          44.1155777175272,
          -126.87419499914407,
          181.4649852878871,
          0.9856912615361324,
          -57.67665977547195,
          125.1686640378707,
          75.58043793634178,
          104.75231378671708,
          10.378789298963582,
          21.73520584422979,
          -143.02213864316903,
          77.00142086786389,
          -38.11629281718212,
          130.81245132149982,
          -12.048155575990194,
          -68.01599681205938,
          -69.63534265044379,
          14.30942613634302,
          -133.61672185225615,
          -28.938998749495845,
          142.74101990626238,
          -45.77323518781635,
          -119.82843145548503,
          92.49029476425018,
          33.079102310682714,
          90.10833890059595,
          -13.67792266612323,
          116.04188601456215,
          -94.67344618707361,
          59.58480730357344,
          -79.41465801433624,
          63.980451292463414,
          -124.18940626842752,
          106.80137213591145,
          46.97910572780036,
          7.802941389017775,
          64.23260242736829,
          22.960284340279856,
          -128.39242730396407,
          72.85950294910313,
          35.1896406226748,
          4.99607184136805,
          -146.57898844955318,
          30.754264347804778,
          -47.07310529511539,
          -33.6536796051474,
          -20.5188044050217,
          99.41142711799888,
          -33.61046867511162,
          55.19445861580609,
          68.29632175440102,
          -129.0537961966634,
          -14.57335982711394,
          -3.184908067154364,
          -1.2097498148885322,
          -84.3489406581379,
          -64.86718568735698,
          191.30839871633844,
          -26.97103299461674,
          76.05062414753489,
          54.401523530916435
         ]
        },
        {
         "colorscale": [
          [
           0,
           "#440154"
          ],
          [
           0.1111111111111111,
           "#482878"
          ],
          [
           0.2222222222222222,
           "#3e4989"
          ],
          [
           0.3333333333333333,
           "#31688e"
          ],
          [
           0.4444444444444444,
           "#26828e"
          ],
          [
           0.5555555555555556,
           "#1f9e89"
          ],
          [
           0.6666666666666666,
           "#35b779"
          ],
          [
           0.7777777777777778,
           "#6ece58"
          ],
          [
           0.8888888888888888,
           "#b5de2b"
          ],
          [
           1,
           "#fde725"
          ]
         ],
         "name": "Best Fit Plane",
         "opacity": 0.7,
         "type": "surface",
         "x": [
          [
           -1.7946763580428193,
           -1.348645944987271,
           -0.9026155319317224,
           -0.4565851188761738,
           -0.010554705820625454,
           0.4354757072349229,
           0.8815061202904717,
           1.32753653334602,
           1.7735669464015684,
           2.219597359457117
          ],
          [
           -1.7946763580428193,
           -1.348645944987271,
           -0.9026155319317224,
           -0.4565851188761738,
           -0.010554705820625454,
           0.4354757072349229,
           0.8815061202904717,
           1.32753653334602,
           1.7735669464015684,
           2.219597359457117
          ],
          [
           -1.7946763580428193,
           -1.348645944987271,
           -0.9026155319317224,
           -0.4565851188761738,
           -0.010554705820625454,
           0.4354757072349229,
           0.8815061202904717,
           1.32753653334602,
           1.7735669464015684,
           2.219597359457117
          ],
          [
           -1.7946763580428193,
           -1.348645944987271,
           -0.9026155319317224,
           -0.4565851188761738,
           -0.010554705820625454,
           0.4354757072349229,
           0.8815061202904717,
           1.32753653334602,
           1.7735669464015684,
           2.219597359457117
          ],
          [
           -1.7946763580428193,
           -1.348645944987271,
           -0.9026155319317224,
           -0.4565851188761738,
           -0.010554705820625454,
           0.4354757072349229,
           0.8815061202904717,
           1.32753653334602,
           1.7735669464015684,
           2.219597359457117
          ],
          [
           -1.7946763580428193,
           -1.348645944987271,
           -0.9026155319317224,
           -0.4565851188761738,
           -0.010554705820625454,
           0.4354757072349229,
           0.8815061202904717,
           1.32753653334602,
           1.7735669464015684,
           2.219597359457117
          ],
          [
           -1.7946763580428193,
           -1.348645944987271,
           -0.9026155319317224,
           -0.4565851188761738,
           -0.010554705820625454,
           0.4354757072349229,
           0.8815061202904717,
           1.32753653334602,
           1.7735669464015684,
           2.219597359457117
          ],
          [
           -1.7946763580428193,
           -1.348645944987271,
           -0.9026155319317224,
           -0.4565851188761738,
           -0.010554705820625454,
           0.4354757072349229,
           0.8815061202904717,
           1.32753653334602,
           1.7735669464015684,
           2.219597359457117
          ],
          [
           -1.7946763580428193,
           -1.348645944987271,
           -0.9026155319317224,
           -0.4565851188761738,
           -0.010554705820625454,
           0.4354757072349229,
           0.8815061202904717,
           1.32753653334602,
           1.7735669464015684,
           2.219597359457117
          ],
          [
           -1.7946763580428193,
           -1.348645944987271,
           -0.9026155319317224,
           -0.4565851188761738,
           -0.010554705820625454,
           0.4354757072349229,
           0.8815061202904717,
           1.32753653334602,
           1.7735669464015684,
           2.219597359457117
          ]
         ],
         "y": [
          [
           -2.7466106380165316,
           -2.7466106380165316,
           -2.7466106380165316,
           -2.7466106380165316,
           -2.7466106380165316,
           -2.7466106380165316,
           -2.7466106380165316,
           -2.7466106380165316,
           -2.7466106380165316,
           -2.7466106380165316
          ],
          [
           -2.0951193877438565,
           -2.0951193877438565,
           -2.0951193877438565,
           -2.0951193877438565,
           -2.0951193877438565,
           -2.0951193877438565,
           -2.0951193877438565,
           -2.0951193877438565,
           -2.0951193877438565,
           -2.0951193877438565
          ],
          [
           -1.4436281374711815,
           -1.4436281374711815,
           -1.4436281374711815,
           -1.4436281374711815,
           -1.4436281374711815,
           -1.4436281374711815,
           -1.4436281374711815,
           -1.4436281374711815,
           -1.4436281374711815,
           -1.4436281374711815
          ],
          [
           -0.7921368871985064,
           -0.7921368871985064,
           -0.7921368871985064,
           -0.7921368871985064,
           -0.7921368871985064,
           -0.7921368871985064,
           -0.7921368871985064,
           -0.7921368871985064,
           -0.7921368871985064,
           -0.7921368871985064
          ],
          [
           -0.14064563692583132,
           -0.14064563692583132,
           -0.14064563692583132,
           -0.14064563692583132,
           -0.14064563692583132,
           -0.14064563692583132,
           -0.14064563692583132,
           -0.14064563692583132,
           -0.14064563692583132,
           -0.14064563692583132
          ],
          [
           0.5108456133468438,
           0.5108456133468438,
           0.5108456133468438,
           0.5108456133468438,
           0.5108456133468438,
           0.5108456133468438,
           0.5108456133468438,
           0.5108456133468438,
           0.5108456133468438,
           0.5108456133468438
          ],
          [
           1.1623368636195188,
           1.1623368636195188,
           1.1623368636195188,
           1.1623368636195188,
           1.1623368636195188,
           1.1623368636195188,
           1.1623368636195188,
           1.1623368636195188,
           1.1623368636195188,
           1.1623368636195188
          ],
          [
           1.8138281138921934,
           1.8138281138921934,
           1.8138281138921934,
           1.8138281138921934,
           1.8138281138921934,
           1.8138281138921934,
           1.8138281138921934,
           1.8138281138921934,
           1.8138281138921934,
           1.8138281138921934
          ],
          [
           2.465319364164869,
           2.465319364164869,
           2.465319364164869,
           2.465319364164869,
           2.465319364164869,
           2.465319364164869,
           2.465319364164869,
           2.465319364164869,
           2.465319364164869,
           2.465319364164869
          ],
          [
           3.1168106144375436,
           3.1168106144375436,
           3.1168106144375436,
           3.1168106144375436,
           3.1168106144375436,
           3.1168106144375436,
           3.1168106144375436,
           3.1168106144375436,
           3.1168106144375436,
           3.1168106144375436
          ]
         ],
         "z": [
          [
           -156.6823960330018,
           -150.24245744350083,
           -143.80251885399986,
           -137.36258026449886,
           -130.9226416749979,
           -124.48270308549691,
           -118.04276449599593,
           -111.60282590649494,
           -105.16288731699396,
           -98.72294872749299
          ],
          [
           -123.72201827504102,
           -117.28207968554004,
           -110.84214109603906,
           -104.40220250653807,
           -97.96226391703709,
           -91.52232532753612,
           -85.08238673803514,
           -78.64244814853416,
           -72.20250955903319,
           -65.7625709695322
          ],
          [
           -90.76164051708022,
           -84.32170192757926,
           -77.88176333807827,
           -71.44182474857729,
           -65.00188615907632,
           -58.56194756957534,
           -52.122008980074355,
           -45.68207039057337,
           -39.2421318010724,
           -32.80219321157142
          ],
          [
           -57.80126275911944,
           -51.36132416961846,
           -44.92138558011748,
           -38.4814469906165,
           -32.04150840111552,
           -25.601569811614546,
           -19.161631222113563,
           -12.72169263261258,
           -6.281754043111604,
           0.1581845463893714
          ],
          [
           -24.84088500115865,
           -18.40094641165767,
           -11.961007822156692,
           -5.52106923265571,
           0.9188693568452679,
           7.3588079463462455,
           13.798746535847226,
           20.23868512534821,
           26.678623714849184,
           33.118562304350164
          ],
          [
           8.119492756802138,
           14.559431346303116,
           20.999369935804097,
           27.43930852530508,
           33.879247114806056,
           40.31918570430703,
           46.759124293808014,
           53.199062883309,
           59.63900147280997,
           66.07894006231095
          ],
          [
           41.07987051476292,
           47.5198091042639,
           53.95974769376488,
           60.399686283265865,
           66.83962487276685,
           73.27956346226782,
           79.7195020517688,
           86.15944064126978,
           92.59937923077075,
           99.03931782027173
          ],
          [
           74.04024827272369,
           80.48018686222467,
           86.92012545172565,
           93.36006404122664,
           99.80000263072762,
           106.23994122022859,
           112.67987980972957,
           119.11981839923055,
           125.55975698873152,
           131.9996955782325
          ],
          [
           107.00062603068449,
           113.44056462018547,
           119.88050320968645,
           126.32044179918744,
           132.76038038868842,
           139.2003189781894,
           145.64025756769036,
           152.08019615719135,
           158.52013474669232,
           164.96007333619332
          ],
          [
           139.9610037886453,
           146.40094237814625,
           152.84088096764725,
           159.28081955714822,
           165.7207581466492,
           172.1606967361502,
           178.60063532565115,
           185.04057391515215,
           191.48051250465312,
           197.9204510941541
          ]
         ]
        }
       ],
       "layout": {
        "scene": {
         "xaxis": {
          "title": {
           "text": "Feature 1"
          }
         },
         "yaxis": {
          "title": {
           "text": "Feature 2"
          }
         },
         "zaxis": {
          "title": {
           "text": "Target"
          }
         }
        },
        "template": {
         "data": {
          "bar": [
           {
            "error_x": {
             "color": "#2a3f5f"
            },
            "error_y": {
             "color": "#2a3f5f"
            },
            "marker": {
             "line": {
              "color": "#E5ECF6",
              "width": 0.5
             },
             "pattern": {
              "fillmode": "overlay",
              "size": 10,
              "solidity": 0.2
             }
            },
            "type": "bar"
           }
          ],
          "barpolar": [
           {
            "marker": {
             "line": {
              "color": "#E5ECF6",
              "width": 0.5
             },
             "pattern": {
              "fillmode": "overlay",
              "size": 10,
              "solidity": 0.2
             }
            },
            "type": "barpolar"
           }
          ],
          "carpet": [
           {
            "aaxis": {
             "endlinecolor": "#2a3f5f",
             "gridcolor": "white",
             "linecolor": "white",
             "minorgridcolor": "white",
             "startlinecolor": "#2a3f5f"
            },
            "baxis": {
             "endlinecolor": "#2a3f5f",
             "gridcolor": "white",
             "linecolor": "white",
             "minorgridcolor": "white",
             "startlinecolor": "#2a3f5f"
            },
            "type": "carpet"
           }
          ],
          "choropleth": [
           {
            "colorbar": {
             "outlinewidth": 0,
             "ticks": ""
            },
            "type": "choropleth"
           }
          ],
          "contour": [
           {
            "colorbar": {
             "outlinewidth": 0,
             "ticks": ""
            },
            "colorscale": [
             [
              0,
              "#0d0887"
             ],
             [
              0.1111111111111111,
              "#46039f"
             ],
             [
              0.2222222222222222,
              "#7201a8"
             ],
             [
              0.3333333333333333,
              "#9c179e"
             ],
             [
              0.4444444444444444,
              "#bd3786"
             ],
             [
              0.5555555555555556,
              "#d8576b"
             ],
             [
              0.6666666666666666,
              "#ed7953"
             ],
             [
              0.7777777777777778,
              "#fb9f3a"
             ],
             [
              0.8888888888888888,
              "#fdca26"
             ],
             [
              1,
              "#f0f921"
             ]
            ],
            "type": "contour"
           }
          ],
          "contourcarpet": [
           {
            "colorbar": {
             "outlinewidth": 0,
             "ticks": ""
            },
            "type": "contourcarpet"
           }
          ],
          "heatmap": [
           {
            "colorbar": {
             "outlinewidth": 0,
             "ticks": ""
            },
            "colorscale": [
             [
              0,
              "#0d0887"
             ],
             [
              0.1111111111111111,
              "#46039f"
             ],
             [
              0.2222222222222222,
              "#7201a8"
             ],
             [
              0.3333333333333333,
              "#9c179e"
             ],
             [
              0.4444444444444444,
              "#bd3786"
             ],
             [
              0.5555555555555556,
              "#d8576b"
             ],
             [
              0.6666666666666666,
              "#ed7953"
             ],
             [
              0.7777777777777778,
              "#fb9f3a"
             ],
             [
              0.8888888888888888,
              "#fdca26"
             ],
             [
              1,
              "#f0f921"
             ]
            ],
            "type": "heatmap"
           }
          ],
          "heatmapgl": [
           {
            "colorbar": {
             "outlinewidth": 0,
             "ticks": ""
            },
            "colorscale": [
             [
              0,
              "#0d0887"
             ],
             [
              0.1111111111111111,
              "#46039f"
             ],
             [
              0.2222222222222222,
              "#7201a8"
             ],
             [
              0.3333333333333333,
              "#9c179e"
             ],
             [
              0.4444444444444444,
              "#bd3786"
             ],
             [
              0.5555555555555556,
              "#d8576b"
             ],
             [
              0.6666666666666666,
              "#ed7953"
             ],
             [
              0.7777777777777778,
              "#fb9f3a"
             ],
             [
              0.8888888888888888,
              "#fdca26"
             ],
             [
              1,
              "#f0f921"
             ]
            ],
            "type": "heatmapgl"
           }
          ],
          "histogram": [
           {
            "marker": {
             "pattern": {
              "fillmode": "overlay",
              "size": 10,
              "solidity": 0.2
             }
            },
            "type": "histogram"
           }
          ],
          "histogram2d": [
           {
            "colorbar": {
             "outlinewidth": 0,
             "ticks": ""
            },
            "colorscale": [
             [
              0,
              "#0d0887"
             ],
             [
              0.1111111111111111,
              "#46039f"
             ],
             [
              0.2222222222222222,
              "#7201a8"
             ],
             [
              0.3333333333333333,
              "#9c179e"
             ],
             [
              0.4444444444444444,
              "#bd3786"
             ],
             [
              0.5555555555555556,
              "#d8576b"
             ],
             [
              0.6666666666666666,
              "#ed7953"
             ],
             [
              0.7777777777777778,
              "#fb9f3a"
             ],
             [
              0.8888888888888888,
              "#fdca26"
             ],
             [
              1,
              "#f0f921"
             ]
            ],
            "type": "histogram2d"
           }
          ],
          "histogram2dcontour": [
           {
            "colorbar": {
             "outlinewidth": 0,
             "ticks": ""
            },
            "colorscale": [
             [
              0,
              "#0d0887"
             ],
             [
              0.1111111111111111,
              "#46039f"
             ],
             [
              0.2222222222222222,
              "#7201a8"
             ],
             [
              0.3333333333333333,
              "#9c179e"
             ],
             [
              0.4444444444444444,
              "#bd3786"
             ],
             [
              0.5555555555555556,
              "#d8576b"
             ],
             [
              0.6666666666666666,
              "#ed7953"
             ],
             [
              0.7777777777777778,
              "#fb9f3a"
             ],
             [
              0.8888888888888888,
              "#fdca26"
             ],
             [
              1,
              "#f0f921"
             ]
            ],
            "type": "histogram2dcontour"
           }
          ],
          "mesh3d": [
           {
            "colorbar": {
             "outlinewidth": 0,
             "ticks": ""
            },
            "type": "mesh3d"
           }
          ],
          "parcoords": [
           {
            "line": {
             "colorbar": {
              "outlinewidth": 0,
              "ticks": ""
             }
            },
            "type": "parcoords"
           }
          ],
          "pie": [
           {
            "automargin": true,
            "type": "pie"
           }
          ],
          "scatter": [
           {
            "fillpattern": {
             "fillmode": "overlay",
             "size": 10,
             "solidity": 0.2
            },
            "type": "scatter"
           }
          ],
          "scatter3d": [
           {
            "line": {
             "colorbar": {
              "outlinewidth": 0,
              "ticks": ""
             }
            },
            "marker": {
             "colorbar": {
              "outlinewidth": 0,
              "ticks": ""
             }
            },
            "type": "scatter3d"
           }
          ],
          "scattercarpet": [
           {
            "marker": {
             "colorbar": {
              "outlinewidth": 0,
              "ticks": ""
             }
            },
            "type": "scattercarpet"
           }
          ],
          "scattergeo": [
           {
            "marker": {
             "colorbar": {
              "outlinewidth": 0,
              "ticks": ""
             }
            },
            "type": "scattergeo"
           }
          ],
          "scattergl": [
           {
            "marker": {
             "colorbar": {
              "outlinewidth": 0,
              "ticks": ""
             }
            },
            "type": "scattergl"
           }
          ],
          "scattermapbox": [
           {
            "marker": {
             "colorbar": {
              "outlinewidth": 0,
              "ticks": ""
             }
            },
            "type": "scattermapbox"
           }
          ],
          "scatterpolar": [
           {
            "marker": {
             "colorbar": {
              "outlinewidth": 0,
              "ticks": ""
             }
            },
            "type": "scatterpolar"
           }
          ],
          "scatterpolargl": [
           {
            "marker": {
             "colorbar": {
              "outlinewidth": 0,
              "ticks": ""
             }
            },
            "type": "scatterpolargl"
           }
          ],
          "scatterternary": [
           {
            "marker": {
             "colorbar": {
              "outlinewidth": 0,
              "ticks": ""
             }
            },
            "type": "scatterternary"
           }
          ],
          "surface": [
           {
            "colorbar": {
             "outlinewidth": 0,
             "ticks": ""
            },
            "colorscale": [
             [
              0,
              "#0d0887"
             ],
             [
              0.1111111111111111,
              "#46039f"
             ],
             [
              0.2222222222222222,
              "#7201a8"
             ],
             [
              0.3333333333333333,
              "#9c179e"
             ],
             [
              0.4444444444444444,
              "#bd3786"
             ],
             [
              0.5555555555555556,
              "#d8576b"
             ],
             [
              0.6666666666666666,
              "#ed7953"
             ],
             [
              0.7777777777777778,
              "#fb9f3a"
             ],
             [
              0.8888888888888888,
              "#fdca26"
             ],
             [
              1,
              "#f0f921"
             ]
            ],
            "type": "surface"
           }
          ],
          "table": [
           {
            "cells": {
             "fill": {
              "color": "#EBF0F8"
             },
             "line": {
              "color": "white"
             }
            },
            "header": {
             "fill": {
              "color": "#C8D4E3"
             },
             "line": {
              "color": "white"
             }
            },
            "type": "table"
           }
          ]
         },
         "layout": {
          "annotationdefaults": {
           "arrowcolor": "#2a3f5f",
           "arrowhead": 0,
           "arrowwidth": 1
          },
          "autotypenumbers": "strict",
          "coloraxis": {
           "colorbar": {
            "outlinewidth": 0,
            "ticks": ""
           }
          },
          "colorscale": {
           "diverging": [
            [
             0,
             "#8e0152"
            ],
            [
             0.1,
             "#c51b7d"
            ],
            [
             0.2,
             "#de77ae"
            ],
            [
             0.3,
             "#f1b6da"
            ],
            [
             0.4,
             "#fde0ef"
            ],
            [
             0.5,
             "#f7f7f7"
            ],
            [
             0.6,
             "#e6f5d0"
            ],
            [
             0.7,
             "#b8e186"
            ],
            [
             0.8,
             "#7fbc41"
            ],
            [
             0.9,
             "#4d9221"
            ],
            [
             1,
             "#276419"
            ]
           ],
           "sequential": [
            [
             0,
             "#0d0887"
            ],
            [
             0.1111111111111111,
             "#46039f"
            ],
            [
             0.2222222222222222,
             "#7201a8"
            ],
            [
             0.3333333333333333,
             "#9c179e"
            ],
            [
             0.4444444444444444,
             "#bd3786"
            ],
            [
             0.5555555555555556,
             "#d8576b"
            ],
            [
             0.6666666666666666,
             "#ed7953"
            ],
            [
             0.7777777777777778,
             "#fb9f3a"
            ],
            [
             0.8888888888888888,
             "#fdca26"
            ],
            [
             1,
             "#f0f921"
            ]
           ],
           "sequentialminus": [
            [
             0,
             "#0d0887"
            ],
            [
             0.1111111111111111,
             "#46039f"
            ],
            [
             0.2222222222222222,
             "#7201a8"
            ],
            [
             0.3333333333333333,
             "#9c179e"
            ],
            [
             0.4444444444444444,
             "#bd3786"
            ],
            [
             0.5555555555555556,
             "#d8576b"
            ],
            [
             0.6666666666666666,
             "#ed7953"
            ],
            [
             0.7777777777777778,
             "#fb9f3a"
            ],
            [
             0.8888888888888888,
             "#fdca26"
            ],
            [
             1,
             "#f0f921"
            ]
           ]
          },
          "colorway": [
           "#636efa",
           "#EF553B",
           "#00cc96",
           "#ab63fa",
           "#FFA15A",
           "#19d3f3",
           "#FF6692",
           "#B6E880",
           "#FF97FF",
           "#FECB52"
          ],
          "font": {
           "color": "#2a3f5f"
          },
          "geo": {
           "bgcolor": "white",
           "lakecolor": "white",
           "landcolor": "#E5ECF6",
           "showlakes": true,
           "showland": true,
           "subunitcolor": "white"
          },
          "hoverlabel": {
           "align": "left"
          },
          "hovermode": "closest",
          "mapbox": {
           "style": "light"
          },
          "paper_bgcolor": "white",
          "plot_bgcolor": "#E5ECF6",
          "polar": {
           "angularaxis": {
            "gridcolor": "white",
            "linecolor": "white",
            "ticks": ""
           },
           "bgcolor": "#E5ECF6",
           "radialaxis": {
            "gridcolor": "white",
            "linecolor": "white",
            "ticks": ""
           }
          },
          "scene": {
           "xaxis": {
            "backgroundcolor": "#E5ECF6",
            "gridcolor": "white",
            "gridwidth": 2,
            "linecolor": "white",
            "showbackground": true,
            "ticks": "",
            "zerolinecolor": "white"
           },
           "yaxis": {
            "backgroundcolor": "#E5ECF6",
            "gridcolor": "white",
            "gridwidth": 2,
            "linecolor": "white",
            "showbackground": true,
            "ticks": "",
            "zerolinecolor": "white"
           },
           "zaxis": {
            "backgroundcolor": "#E5ECF6",
            "gridcolor": "white",
            "gridwidth": 2,
            "linecolor": "white",
            "showbackground": true,
            "ticks": "",
            "zerolinecolor": "white"
           }
          },
          "shapedefaults": {
           "line": {
            "color": "#2a3f5f"
           }
          },
          "ternary": {
           "aaxis": {
            "gridcolor": "white",
            "linecolor": "white",
            "ticks": ""
           },
           "baxis": {
            "gridcolor": "white",
            "linecolor": "white",
            "ticks": ""
           },
           "bgcolor": "#E5ECF6",
           "caxis": {
            "gridcolor": "white",
            "linecolor": "white",
            "ticks": ""
           }
          },
          "title": {
           "x": 0.05
          },
          "xaxis": {
           "automargin": true,
           "gridcolor": "white",
           "linecolor": "white",
           "ticks": "",
           "title": {
            "standoff": 15
           },
           "zerolinecolor": "white",
           "zerolinewidth": 2
          },
          "yaxis": {
           "automargin": true,
           "gridcolor": "white",
           "linecolor": "white",
           "ticks": "",
           "title": {
            "standoff": 15
           },
           "zerolinecolor": "white",
           "zerolinewidth": 2
          }
         }
        },
        "title": {
         "text": "3D Visualization with Best Fit Plane"
        }
       }
      }
     },
     "metadata": {},
     "output_type": "display_data"
    }
   ],
   "source": [
    "\n",
    "\n",
    "# Add scatter plot for actual data points\n",
    "fig.add_trace(go.Scatter3d(\n",
    "    x=df['feature1'],\n",
    "    y=df['feature2'],\n",
    "    z=df['target'],\n",
    "    mode='markers',\n",
    "    marker=dict(size=5, color='blue'),\n",
    "    name='Data Points'\n",
    "))\n",
    "# Add regression plane\n",
    "fig.add_trace(go.Surface(\n",
    "    x=x_grid,\n",
    "    y=y_grid,\n",
    "    z=z_grid,\n",
    "    colorscale='Viridis',\n",
    "    opacity=0.7,\n",
    "    name='Best Fit Plane'\n",
    "))\n",
    "\n",
    "# Update layout for better visualization\n",
    "fig.update_layout(\n",
    "    scene=dict(\n",
    "        xaxis_title='Feature 1',\n",
    "        yaxis_title='Feature 2',\n",
    "        zaxis_title='Target'\n",
    "    ),\n",
    "    title='3D Visualization with Best Fit Plane'\n",
    ")\n",
    "\n",
    "fig.show()"
   ]
  },
  {
   "cell_type": "code",
   "execution_count": 61,
   "metadata": {},
   "outputs": [
    {
     "data": {
      "text/plain": [
       "array([14.43833963, 50.59220326])"
      ]
     },
     "execution_count": 61,
     "metadata": {},
     "output_type": "execute_result"
    }
   ],
   "source": [
    "\n",
    "lr.coef_"
   ]
  },
  {
   "cell_type": "code",
   "execution_count": 62,
   "metadata": {},
   "outputs": [
    {
     "data": {
      "text/plain": [
       "8.186834435617188"
      ]
     },
     "execution_count": 62,
     "metadata": {},
     "output_type": "execute_result"
    }
   ],
   "source": [
    "\n",
    "lr.intercept_"
   ]
  },
  {
   "cell_type": "markdown",
   "metadata": {},
   "source": [
    "# BATCH GRADIENT DECENT"
   ]
  },
  {
   "cell_type": "code",
   "execution_count": 63,
   "metadata": {},
   "outputs": [],
   "source": [
    "class GDRegressor:\n",
    "    \n",
    "    def __init__(self,learning_rate=0.01,epochs=100):\n",
    "        \n",
    "        self.coef_ = None\n",
    "        self.intercept_ = None\n",
    "        self.lr = learning_rate\n",
    "        self.epochs = epochs\n",
    "        \n",
    "    def fit(self,X_train,y_train):\n",
    "        # init your coefs\n",
    "        self.intercept_ = 0\n",
    "        self.coef_ = np.ones(X_train.shape[1])\n",
    "        \n",
    "        for i in range(self.epochs):\n",
    "            # update all the coef and the intercept\n",
    "            y_hat = np.dot(X_train,self.coef_) + self.intercept_\n",
    "            #print(\"Shape of y_hat\",y_hat.shape)\n",
    "            intercept_der = -2 * np.mean(y_train - y_hat)\n",
    "            self.intercept_ = self.intercept_ - (self.lr * intercept_der)\n",
    "            \n",
    "            coef_der = -2 * np.dot((y_train - y_hat),X_train)/X_train.shape[0]\n",
    "            self.coef_ = self.coef_ - (self.lr * coef_der)\n",
    "        \n",
    "        print(self.intercept_,self.coef_)\n",
    "    \n",
    "    def predict(self,X_test):\n",
    "        return np.dot(X_test,self.coef_) + self.intercept_"
   ]
  },
  {
   "cell_type": "code",
   "execution_count": 64,
   "metadata": {},
   "outputs": [],
   "source": [
    "gdr = GDRegressor(epochs=1000,learning_rate=0.5)"
   ]
  },
  {
   "cell_type": "code",
   "execution_count": 65,
   "metadata": {},
   "outputs": [
    {
     "name": "stdout",
     "output_type": "stream",
     "text": [
      "8.186834435617193 [14.43833963 50.59220326]\n"
     ]
    }
   ],
   "source": [
    "gdr.fit(X_train,y_train)"
   ]
  },
  {
   "cell_type": "code",
   "execution_count": 66,
   "metadata": {},
   "outputs": [],
   "source": [
    "y_pred = gdr.predict(X_test)"
   ]
  },
  {
   "cell_type": "code",
   "execution_count": 67,
   "metadata": {},
   "outputs": [
    {
     "data": {
      "text/plain": [
       "0.6182288756212949"
      ]
     },
     "execution_count": 67,
     "metadata": {},
     "output_type": "execute_result"
    }
   ],
   "source": [
    "r2_score(y_test,y_pred)"
   ]
  },
  {
   "cell_type": "code",
   "execution_count": null,
   "metadata": {},
   "outputs": [],
   "source": []
  }
 ],
 "metadata": {
  "kernelspec": {
   "display_name": "Python 3",
   "language": "python",
   "name": "python3"
  },
  "language_info": {
   "codemirror_mode": {
    "name": "ipython",
    "version": 3
   },
   "file_extension": ".py",
   "mimetype": "text/x-python",
   "name": "python",
   "nbconvert_exporter": "python",
   "pygments_lexer": "ipython3",
   "version": "3.11.4"
  }
 },
 "nbformat": 4,
 "nbformat_minor": 2
}
